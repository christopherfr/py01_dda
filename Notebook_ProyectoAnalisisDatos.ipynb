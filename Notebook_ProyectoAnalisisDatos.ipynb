{
  "nbformat": 4,
  "nbformat_minor": 0,
  "metadata": {
    "colab": {
      "name": "Notebook_ProyectoAnalisisDatos.ipynb",
      "provenance": [],
      "collapsed_sections": []
    },
    "kernelspec": {
      "name": "python3",
      "display_name": "Python 3"
    },
    "widgets": {
      "application/vnd.jupyter.widget-state+json": {
        "3e79552309f84f7d8def43ab38ba6d4b": {
          "model_module": "@jupyter-widgets/controls",
          "model_name": "VBoxModel",
          "state": {
            "_view_name": "VBoxView",
            "_dom_classes": [
              "widget-interact"
            ],
            "_model_name": "VBoxModel",
            "_view_module": "@jupyter-widgets/controls",
            "_model_module_version": "1.5.0",
            "_view_count": null,
            "_view_module_version": "1.5.0",
            "box_style": "",
            "layout": "IPY_MODEL_08ffb1c814ad4112b060f5231af0a9c2",
            "_model_module": "@jupyter-widgets/controls",
            "children": [
              "IPY_MODEL_acbe80054f64478d944af1cca36d0deb",
              "IPY_MODEL_546c96669ea34169825ecc8815435f3b"
            ]
          }
        },
        "08ffb1c814ad4112b060f5231af0a9c2": {
          "model_module": "@jupyter-widgets/base",
          "model_name": "LayoutModel",
          "state": {
            "_view_name": "LayoutView",
            "grid_template_rows": null,
            "right": null,
            "justify_content": null,
            "_view_module": "@jupyter-widgets/base",
            "overflow": null,
            "_model_module_version": "1.2.0",
            "_view_count": null,
            "flex_flow": null,
            "width": null,
            "min_width": null,
            "border": null,
            "align_items": null,
            "bottom": null,
            "_model_module": "@jupyter-widgets/base",
            "top": null,
            "grid_column": null,
            "overflow_y": null,
            "overflow_x": null,
            "grid_auto_flow": null,
            "grid_area": null,
            "grid_template_columns": null,
            "flex": null,
            "_model_name": "LayoutModel",
            "justify_items": null,
            "grid_row": null,
            "max_height": null,
            "align_content": null,
            "visibility": null,
            "align_self": null,
            "height": null,
            "min_height": null,
            "padding": null,
            "grid_auto_rows": null,
            "grid_gap": null,
            "max_width": null,
            "order": null,
            "_view_module_version": "1.2.0",
            "grid_template_areas": null,
            "object_position": null,
            "object_fit": null,
            "grid_auto_columns": null,
            "margin": null,
            "display": null,
            "left": null
          }
        },
        "acbe80054f64478d944af1cca36d0deb": {
          "model_module": "@jupyter-widgets/controls",
          "model_name": "IntSliderModel",
          "state": {
            "_view_name": "IntSliderView",
            "style": "IPY_MODEL_fd8f1089eec24b178900b127bf2eaec8",
            "_dom_classes": [],
            "description": "Test:",
            "step": 1,
            "_model_name": "IntSliderModel",
            "orientation": "horizontal",
            "max": 20,
            "_view_module": "@jupyter-widgets/controls",
            "_model_module_version": "1.5.0",
            "value": 8,
            "_view_count": null,
            "disabled": false,
            "_view_module_version": "1.5.0",
            "min": 1,
            "continuous_update": false,
            "readout_format": "d",
            "description_tooltip": null,
            "readout": true,
            "_model_module": "@jupyter-widgets/controls",
            "layout": "IPY_MODEL_571954b63bbf4e2b8620e175274fa7ae"
          }
        },
        "546c96669ea34169825ecc8815435f3b": {
          "model_module": "@jupyter-widgets/output",
          "model_name": "OutputModel",
          "state": {
            "_view_name": "OutputView",
            "msg_id": "",
            "_dom_classes": [],
            "_model_name": "OutputModel",
            "outputs": [
              {
                "output_type": "stream",
                "metadata": {
                  "tags": []
                },
                "text": "           monto\ncliente         \nSID265   62630.0\nSID9     37900.0\nSID2     34000.0\nSID8     32500.0\nSID127   29950.0\nSID132   27600.0\nSID6     24200.0\nSID124   22495.0\n",
                "stream": "stdout"
              }
            ],
            "_view_module": "@jupyter-widgets/output",
            "_model_module_version": "1.0.0",
            "_view_count": null,
            "_view_module_version": "1.0.0",
            "layout": "IPY_MODEL_4a8ace8ef5514d42b42897dfbdc079a5",
            "_model_module": "@jupyter-widgets/output"
          }
        },
        "fd8f1089eec24b178900b127bf2eaec8": {
          "model_module": "@jupyter-widgets/controls",
          "model_name": "SliderStyleModel",
          "state": {
            "_view_name": "StyleView",
            "handle_color": null,
            "_model_name": "SliderStyleModel",
            "description_width": "",
            "_view_module": "@jupyter-widgets/base",
            "_model_module_version": "1.5.0",
            "_view_count": null,
            "_view_module_version": "1.2.0",
            "_model_module": "@jupyter-widgets/controls"
          }
        },
        "571954b63bbf4e2b8620e175274fa7ae": {
          "model_module": "@jupyter-widgets/base",
          "model_name": "LayoutModel",
          "state": {
            "_view_name": "LayoutView",
            "grid_template_rows": null,
            "right": null,
            "justify_content": null,
            "_view_module": "@jupyter-widgets/base",
            "overflow": null,
            "_model_module_version": "1.2.0",
            "_view_count": null,
            "flex_flow": null,
            "width": null,
            "min_width": null,
            "border": null,
            "align_items": null,
            "bottom": null,
            "_model_module": "@jupyter-widgets/base",
            "top": null,
            "grid_column": null,
            "overflow_y": null,
            "overflow_x": null,
            "grid_auto_flow": null,
            "grid_area": null,
            "grid_template_columns": null,
            "flex": null,
            "_model_name": "LayoutModel",
            "justify_items": null,
            "grid_row": null,
            "max_height": null,
            "align_content": null,
            "visibility": null,
            "align_self": null,
            "height": null,
            "min_height": null,
            "padding": null,
            "grid_auto_rows": null,
            "grid_gap": null,
            "max_width": null,
            "order": null,
            "_view_module_version": "1.2.0",
            "grid_template_areas": null,
            "object_position": null,
            "object_fit": null,
            "grid_auto_columns": null,
            "margin": null,
            "display": null,
            "left": null
          }
        },
        "4a8ace8ef5514d42b42897dfbdc079a5": {
          "model_module": "@jupyter-widgets/base",
          "model_name": "LayoutModel",
          "state": {
            "_view_name": "LayoutView",
            "grid_template_rows": null,
            "right": null,
            "justify_content": null,
            "_view_module": "@jupyter-widgets/base",
            "overflow": null,
            "_model_module_version": "1.2.0",
            "_view_count": null,
            "flex_flow": null,
            "width": null,
            "min_width": null,
            "border": null,
            "align_items": null,
            "bottom": null,
            "_model_module": "@jupyter-widgets/base",
            "top": null,
            "grid_column": null,
            "overflow_y": null,
            "overflow_x": null,
            "grid_auto_flow": null,
            "grid_area": null,
            "grid_template_columns": null,
            "flex": null,
            "_model_name": "LayoutModel",
            "justify_items": null,
            "grid_row": null,
            "max_height": null,
            "align_content": null,
            "visibility": null,
            "align_self": null,
            "height": null,
            "min_height": null,
            "padding": null,
            "grid_auto_rows": null,
            "grid_gap": null,
            "max_width": null,
            "order": null,
            "_view_module_version": "1.2.0",
            "grid_template_areas": null,
            "object_position": null,
            "object_fit": null,
            "grid_auto_columns": null,
            "margin": null,
            "display": null,
            "left": null
          }
        }
      }
    }
  },
  "cells": [
    {
      "cell_type": "markdown",
      "metadata": {
        "id": "6SwyZBoIR1-W"
      },
      "source": [
        "###Carga de la data"
      ]
    },
    {
      "cell_type": "code",
      "metadata": {
        "id": "yZibZsPBnRhP"
      },
      "source": [
        "from google.colab import drive\n",
        "import pandas as pd\n",
        "import numpy as np\n",
        "from datetime import datetime, timedelta"
      ],
      "execution_count": null,
      "outputs": []
    },
    {
      "cell_type": "code",
      "metadata": {
        "id": "n8hu125DjFzM"
      },
      "source": [
        "# Para que la salida al visualizar tenga 300 filas\n",
        "pd.set_option('display.max_rows', 300)"
      ],
      "execution_count": null,
      "outputs": []
    },
    {
      "cell_type": "code",
      "metadata": {
        "id": "U19Dt7XhnMib"
      },
      "source": [
        "def str_a_date(texto):\n",
        "    return datetime.strptime(texto,'%Y-%m-%d').date()\n",
        "\n",
        "def str_a_datetime(texto):\n",
        "    return datetime.strptime(texto,'%Y-%m-%d %H:%M:%S')"
      ],
      "execution_count": null,
      "outputs": []
    },
    {
      "cell_type": "code",
      "metadata": {
        "id": "IIgaU77yRzhU",
        "colab": {
          "base_uri": "https://localhost:8080/"
        },
        "outputId": "76ce149d-9863-4c8c-bba4-97c5085997fb"
      },
      "source": [
        "drive.mount('/content/drive')\n",
        "\n",
        "conv = {'fecNacimiento': str_a_date, 'fecha': str_a_datetime}\n",
        "df = pd.read_excel('/content/drive/My Drive/Proyecto de Análisis de Datos/PY01.xlsx', converters = conv)\n",
        "\n",
        "drive.flush_and_unmount()"
      ],
      "execution_count": null,
      "outputs": [
        {
          "output_type": "stream",
          "text": [
            "Mounted at /content/drive\n"
          ],
          "name": "stdout"
        }
      ]
    },
    {
      "cell_type": "markdown",
      "metadata": {
        "id": "sY8lJXSHgShL"
      },
      "source": [
        "Visualizamos los primeros registros"
      ]
    },
    {
      "cell_type": "code",
      "metadata": {
        "id": "zrFOS_MYgPwI",
        "colab": {
          "base_uri": "https://localhost:8080/",
          "height": 204
        },
        "outputId": "e99648e9-bc23-49dc-f68c-2f8e9cdc3d46"
      },
      "source": [
        "df.head()"
      ],
      "execution_count": null,
      "outputs": [
        {
          "output_type": "execute_result",
          "data": {
            "text/html": [
              "<div>\n",
              "<style scoped>\n",
              "    .dataframe tbody tr th:only-of-type {\n",
              "        vertical-align: middle;\n",
              "    }\n",
              "\n",
              "    .dataframe tbody tr th {\n",
              "        vertical-align: top;\n",
              "    }\n",
              "\n",
              "    .dataframe thead th {\n",
              "        text-align: right;\n",
              "    }\n",
              "</style>\n",
              "<table border=\"1\" class=\"dataframe\">\n",
              "  <thead>\n",
              "    <tr style=\"text-align: right;\">\n",
              "      <th></th>\n",
              "      <th>cliente</th>\n",
              "      <th>fecNacimiento</th>\n",
              "      <th>sexo</th>\n",
              "      <th>fecha</th>\n",
              "      <th>monto</th>\n",
              "      <th>descuento</th>\n",
              "    </tr>\n",
              "  </thead>\n",
              "  <tbody>\n",
              "    <tr>\n",
              "      <th>0</th>\n",
              "      <td>SID1</td>\n",
              "      <td>NaN</td>\n",
              "      <td>NaN</td>\n",
              "      <td>2020-07-08 08:50:34</td>\n",
              "      <td>250.0</td>\n",
              "      <td>0.0</td>\n",
              "    </tr>\n",
              "    <tr>\n",
              "      <th>1</th>\n",
              "      <td>SID1</td>\n",
              "      <td>NaN</td>\n",
              "      <td>NaN</td>\n",
              "      <td>2020-07-08 08:51:21</td>\n",
              "      <td>100.0</td>\n",
              "      <td>0.0</td>\n",
              "    </tr>\n",
              "    <tr>\n",
              "      <th>2</th>\n",
              "      <td>SID1</td>\n",
              "      <td>NaN</td>\n",
              "      <td>NaN</td>\n",
              "      <td>2020-07-08 08:52:18</td>\n",
              "      <td>100.0</td>\n",
              "      <td>0.0</td>\n",
              "    </tr>\n",
              "    <tr>\n",
              "      <th>3</th>\n",
              "      <td>SID1</td>\n",
              "      <td>NaN</td>\n",
              "      <td>NaN</td>\n",
              "      <td>2020-07-08 08:52:37</td>\n",
              "      <td>75.0</td>\n",
              "      <td>0.0</td>\n",
              "    </tr>\n",
              "    <tr>\n",
              "      <th>4</th>\n",
              "      <td>SID1</td>\n",
              "      <td>NaN</td>\n",
              "      <td>NaN</td>\n",
              "      <td>2020-07-08 08:52:59</td>\n",
              "      <td>350.0</td>\n",
              "      <td>0.0</td>\n",
              "    </tr>\n",
              "  </tbody>\n",
              "</table>\n",
              "</div>"
            ],
            "text/plain": [
              "  cliente fecNacimiento sexo               fecha  monto  descuento\n",
              "0    SID1           NaN  NaN 2020-07-08 08:50:34  250.0        0.0\n",
              "1    SID1           NaN  NaN 2020-07-08 08:51:21  100.0        0.0\n",
              "2    SID1           NaN  NaN 2020-07-08 08:52:18  100.0        0.0\n",
              "3    SID1           NaN  NaN 2020-07-08 08:52:37   75.0        0.0\n",
              "4    SID1           NaN  NaN 2020-07-08 08:52:59  350.0        0.0"
            ]
          },
          "metadata": {
            "tags": []
          },
          "execution_count": 76
        }
      ]
    },
    {
      "cell_type": "markdown",
      "metadata": {
        "id": "E-LIJBPigUlD"
      },
      "source": [
        "Revisamos las cantidad de filas y columnas"
      ]
    },
    {
      "cell_type": "code",
      "metadata": {
        "id": "tM94pjUugRl7",
        "colab": {
          "base_uri": "https://localhost:8080/"
        },
        "outputId": "1371b77d-08ff-48bb-b624-70bcb8c1ba20"
      },
      "source": [
        "ncols, nrows = df.shape\n",
        "print('La base de datos tiene {} filas y {} columnas.'.format(ncols, nrows))"
      ],
      "execution_count": null,
      "outputs": [
        {
          "output_type": "stream",
          "text": [
            "La base de datos tiene 3414 filas y 6 columnas.\n"
          ],
          "name": "stdout"
        }
      ]
    },
    {
      "cell_type": "markdown",
      "metadata": {
        "id": "hmO4Q7t-pY0s"
      },
      "source": [
        "###Identificación de inconsistencias"
      ]
    },
    {
      "cell_type": "markdown",
      "metadata": {
        "id": "cIwYmBw1ggZb"
      },
      "source": [
        "Verificamos que existen registros con valores nulos:"
      ]
    },
    {
      "cell_type": "code",
      "metadata": {
        "id": "QAIZLgfDggIR",
        "colab": {
          "base_uri": "https://localhost:8080/"
        },
        "outputId": "cf2bea70-f147-4021-dfeb-e7644b4ae474"
      },
      "source": [
        "# Registros con NAN\n",
        "df.isnull().sum()"
      ],
      "execution_count": null,
      "outputs": [
        {
          "output_type": "execute_result",
          "data": {
            "text/plain": [
              "cliente             0\n",
              "fecNacimiento    2689\n",
              "sexo             2687\n",
              "fecha               0\n",
              "monto               0\n",
              "descuento           0\n",
              "dtype: int64"
            ]
          },
          "metadata": {
            "tags": []
          },
          "execution_count": 78
        }
      ]
    },
    {
      "cell_type": "markdown",
      "metadata": {
        "id": "Ky3_bdyXr22K"
      },
      "source": [
        "Revisamos cada una de las variables de la base datos en búsqueda de inconsistencias."
      ]
    },
    {
      "cell_type": "code",
      "metadata": {
        "id": "fL3ZXHqVsn5p",
        "colab": {
          "base_uri": "https://localhost:8080/"
        },
        "outputId": "ef9660b6-c0ee-4d33-b209-d980a40b8fc8"
      },
      "source": [
        "print(df.columns.to_list())"
      ],
      "execution_count": null,
      "outputs": [
        {
          "output_type": "stream",
          "text": [
            "['cliente', 'fecNacimiento', 'sexo', 'fecha', 'monto', 'descuento']\n"
          ],
          "name": "stdout"
        }
      ]
    },
    {
      "cell_type": "markdown",
      "metadata": {
        "id": "NKNU-xf2slag"
      },
      "source": [
        "####Variable `cliente`"
      ]
    },
    {
      "cell_type": "markdown",
      "metadata": {
        "id": "E6ztKgnalL9G"
      },
      "source": [
        "Revisamos si la parte numérica de los valores que toma esta variable es consecutiva:"
      ]
    },
    {
      "cell_type": "code",
      "metadata": {
        "id": "r0RttNPutOII",
        "colab": {
          "base_uri": "https://localhost:8080/"
        },
        "outputId": "decda948-8e9e-4c97-9c2f-76b601677ae5"
      },
      "source": [
        "ids_unicos = np.sort(list(map(lambda x: int(x[3:]),df['cliente'].unique())))\n",
        "\n",
        "q_ids = ids_unicos[-1]\n",
        "\n",
        "i = 0\n",
        "ids_no_encontrados = []\n",
        "for id in range(1, q_ids + 1):\n",
        "    if id == ids_unicos[i]:\n",
        "        i += 1\n",
        "        continue\n",
        "    else:\n",
        "        ids_no_encontrados.append(id)\n",
        "\n",
        "print('Los siguientes {} IDs de clientes no están presentes dentro rango de valores consecutivos entre el mínimo y el máximo valor de la parte numérica de la variable:'.format(len(ids_no_encontrados)))\n",
        "for id in ids_no_encontrados:\n",
        "    print(id)"
      ],
      "execution_count": null,
      "outputs": [
        {
          "output_type": "stream",
          "text": [
            "Los siguientes 85 IDs de clientes no están presentes dentro rango de valores consecutivos entre el mínimo y el máximo valor de la parte numérica de la variable:\n",
            "11\n",
            "22\n",
            "37\n",
            "51\n",
            "60\n",
            "62\n",
            "64\n",
            "110\n",
            "112\n",
            "117\n",
            "123\n",
            "145\n",
            "146\n",
            "149\n",
            "154\n",
            "156\n",
            "159\n",
            "161\n",
            "163\n",
            "164\n",
            "166\n",
            "167\n",
            "168\n",
            "169\n",
            "176\n",
            "179\n",
            "181\n",
            "182\n",
            "183\n",
            "185\n",
            "186\n",
            "187\n",
            "188\n",
            "189\n",
            "190\n",
            "192\n",
            "193\n",
            "194\n",
            "195\n",
            "196\n",
            "198\n",
            "199\n",
            "200\n",
            "206\n",
            "212\n",
            "214\n",
            "215\n",
            "217\n",
            "218\n",
            "220\n",
            "221\n",
            "222\n",
            "223\n",
            "225\n",
            "226\n",
            "229\n",
            "231\n",
            "232\n",
            "233\n",
            "235\n",
            "236\n",
            "238\n",
            "239\n",
            "240\n",
            "241\n",
            "242\n",
            "271\n",
            "284\n",
            "285\n",
            "290\n",
            "297\n",
            "312\n",
            "318\n",
            "322\n",
            "329\n",
            "330\n",
            "331\n",
            "333\n",
            "357\n",
            "358\n",
            "362\n",
            "363\n",
            "364\n",
            "372\n",
            "373\n"
          ],
          "name": "stdout"
        }
      ]
    },
    {
      "cell_type": "markdown",
      "metadata": {
        "id": "cDa_9xnaqY87"
      },
      "source": [
        "####Variable `fecNacimiento`"
      ]
    },
    {
      "cell_type": "markdown",
      "metadata": {
        "id": "OCky9Wu7u90n"
      },
      "source": [
        "El formato en el que viene esta fecha es `yyyy-MM-dd`. Notamos que, al momento de aplicar los conversores en la carga del dataset, no saltó ningún error, por lo que descartamos que existan fechas inválidas."
      ]
    },
    {
      "cell_type": "markdown",
      "metadata": {
        "id": "_RJEqddXmhBw"
      },
      "source": [
        "Revisamos si hay valores vacíos."
      ]
    },
    {
      "cell_type": "code",
      "metadata": {
        "id": "wG-GkF-Oml9b",
        "colab": {
          "base_uri": "https://localhost:8080/"
        },
        "outputId": "ad337745-2680-40af-a882-546e92ade736"
      },
      "source": [
        "len(df[pd.isna(df['fecNacimiento'])])"
      ],
      "execution_count": null,
      "outputs": [
        {
          "output_type": "execute_result",
          "data": {
            "text/plain": [
              "2689"
            ]
          },
          "metadata": {
            "tags": []
          },
          "execution_count": 81
        }
      ]
    },
    {
      "cell_type": "markdown",
      "metadata": {
        "id": "W0NEQKUMnwu0"
      },
      "source": [
        "Tenemos una gran cantidad de valores vacíos en esta variable; sin embargo, la gran mayoría corresponden a clientes anónimos."
      ]
    },
    {
      "cell_type": "code",
      "metadata": {
        "id": "QRWLtHmvnhwx",
        "colab": {
          "base_uri": "https://localhost:8080/",
          "height": 142
        },
        "outputId": "7cc33b45-fe50-476f-e7be-e16ae651f618"
      },
      "source": [
        "df[pd.isna(df['fecNacimiento'])].groupby('cliente', as_index = False)['fecNacimiento'].size()"
      ],
      "execution_count": null,
      "outputs": [
        {
          "output_type": "execute_result",
          "data": {
            "text/html": [
              "<div>\n",
              "<style scoped>\n",
              "    .dataframe tbody tr th:only-of-type {\n",
              "        vertical-align: middle;\n",
              "    }\n",
              "\n",
              "    .dataframe tbody tr th {\n",
              "        vertical-align: top;\n",
              "    }\n",
              "\n",
              "    .dataframe thead th {\n",
              "        text-align: right;\n",
              "    }\n",
              "</style>\n",
              "<table border=\"1\" class=\"dataframe\">\n",
              "  <thead>\n",
              "    <tr style=\"text-align: right;\">\n",
              "      <th></th>\n",
              "      <th>cliente</th>\n",
              "      <th>size</th>\n",
              "    </tr>\n",
              "  </thead>\n",
              "  <tbody>\n",
              "    <tr>\n",
              "      <th>0</th>\n",
              "      <td>SID1</td>\n",
              "      <td>2687</td>\n",
              "    </tr>\n",
              "    <tr>\n",
              "      <th>1</th>\n",
              "      <td>SID148</td>\n",
              "      <td>1</td>\n",
              "    </tr>\n",
              "    <tr>\n",
              "      <th>2</th>\n",
              "      <td>SID151</td>\n",
              "      <td>1</td>\n",
              "    </tr>\n",
              "  </tbody>\n",
              "</table>\n",
              "</div>"
            ],
            "text/plain": [
              "  cliente  size\n",
              "0    SID1  2687\n",
              "1  SID148     1\n",
              "2  SID151     1"
            ]
          },
          "metadata": {
            "tags": []
          },
          "execution_count": 82
        }
      ]
    },
    {
      "cell_type": "markdown",
      "metadata": {
        "id": "_mV4rZ1ftbj2"
      },
      "source": [
        "Revisamos los valores únicos de esta variable."
      ]
    },
    {
      "cell_type": "code",
      "metadata": {
        "id": "VsOlRBUng_iB"
      },
      "source": [
        "def mostrar_unicos_fecNacimiento():\n",
        "    for fecha in np.append(np.sort(df[pd.isna(df['fecNacimiento']) == False]['fecNacimiento'].unique()),(np.nan,)): \n",
        "        print(fecha)"
      ],
      "execution_count": null,
      "outputs": []
    },
    {
      "cell_type": "code",
      "metadata": {
        "id": "E6XKrrGLVHbT",
        "colab": {
          "base_uri": "https://localhost:8080/"
        },
        "outputId": "d440d3af-2953-4502-b8f0-8e620f8534fb"
      },
      "source": [
        "mostrar_unicos_fecNacimiento()"
      ],
      "execution_count": null,
      "outputs": [
        {
          "output_type": "stream",
          "text": [
            "0001-08-06\n",
            "0002-03-24\n",
            "0013-08-16\n",
            "0038-10-25\n",
            "0044-11-17\n",
            "0045-09-29\n",
            "0047-11-19\n",
            "0047-12-03\n",
            "0049-08-05\n",
            "0050-01-12\n",
            "0050-03-06\n",
            "0052-07-16\n",
            "0053-08-29\n",
            "0054-06-11\n",
            "0055-09-13\n",
            "0056-10-10\n",
            "0058-02-19\n",
            "0059-09-23\n",
            "0060-02-27\n",
            "0060-07-25\n",
            "0060-09-20\n",
            "0061-04-14\n",
            "0061-05-10\n",
            "0061-06-02\n",
            "0062-03-01\n",
            "0062-04-08\n",
            "0064-11-10\n",
            "0065-02-19\n",
            "0065-08-10\n",
            "0066-11-11\n",
            "0067-03-18\n",
            "0067-05-17\n",
            "0067-06-26\n",
            "0067-07-20\n",
            "0067-08-28\n",
            "0067-12-24\n",
            "0068-03-02\n",
            "0068-04-03\n",
            "0068-08-14\n",
            "0069-02-13\n",
            "0069-07-20\n",
            "0069-12-13\n",
            "0070-01-05\n",
            "0070-01-06\n",
            "0070-02-06\n",
            "0070-06-30\n",
            "0070-08-15\n",
            "0071-02-16\n",
            "0071-02-28\n",
            "0071-10-04\n",
            "0072-04-11\n",
            "0072-05-18\n",
            "0072-06-24\n",
            "0072-07-13\n",
            "0073-05-20\n",
            "0073-11-17\n",
            "0074-06-24\n",
            "0074-08-30\n",
            "0075-10-11\n",
            "0075-11-26\n",
            "0076-01-02\n",
            "0076-02-28\n",
            "0076-04-02\n",
            "0076-05-15\n",
            "0076-07-05\n",
            "0076-07-18\n",
            "0077-09-22\n",
            "0077-12-17\n",
            "0078-03-19\n",
            "0078-06-24\n",
            "0078-06-30\n",
            "0078-11-15\n",
            "0079-03-29\n",
            "0079-08-07\n",
            "0079-09-20\n",
            "0079-09-23\n",
            "0080-08-25\n",
            "0081-04-01\n",
            "0081-06-06\n",
            "0081-08-26\n",
            "0081-12-20\n",
            "0082-03-02\n",
            "0083-01-16\n",
            "0083-08-22\n",
            "0084-01-30\n",
            "0084-05-23\n",
            "0086-06-18\n",
            "0087-12-18\n",
            "0088-05-02\n",
            "0089-09-28\n",
            "0090-05-15\n",
            "0090-12-17\n",
            "0091-04-11\n",
            "0093-02-01\n",
            "0093-02-19\n",
            "0093-12-14\n",
            "0094-03-14\n",
            "0094-07-27\n",
            "0095-03-21\n",
            "0095-12-31\n",
            "0096-02-13\n",
            "0096-12-20\n",
            "0097-01-01\n",
            "0097-02-20\n",
            "0098-05-13\n",
            "1900-01-01\n",
            "1968-06-24\n",
            "1972-01-15\n",
            "1979-10-24\n",
            "1984-07-22\n",
            "1986-04-28\n",
            "1989-06-22\n",
            "1989-07-01\n",
            "1991-07-11\n",
            "1993-12-02\n",
            "1996-01-18\n",
            "nan\n"
          ],
          "name": "stdout"
        }
      ]
    },
    {
      "cell_type": "markdown",
      "metadata": {
        "id": "nrSleF-Otal0"
      },
      "source": [
        "Notamos que hay fechas de nacimiento con años menores a 100, para estos casos vamos a hacer correcciones."
      ]
    },
    {
      "cell_type": "markdown",
      "metadata": {
        "id": "iJ_0bRp3y9rJ"
      },
      "source": [
        "El cliente `SID21` tiene una fecha de nacimiento que, sospechamos, es errónea, ya sea el año realmente 1913 o 2013."
      ]
    },
    {
      "cell_type": "code",
      "metadata": {
        "id": "ds-KJU1ryflu",
        "colab": {
          "base_uri": "https://localhost:8080/",
          "height": 80
        },
        "outputId": "2e19bb5e-a3ff-44ba-db30-a84f2442baa2"
      },
      "source": [
        "df[df['fecNacimiento'] == datetime(13,8,16).date()]"
      ],
      "execution_count": null,
      "outputs": [
        {
          "output_type": "execute_result",
          "data": {
            "text/html": [
              "<div>\n",
              "<style scoped>\n",
              "    .dataframe tbody tr th:only-of-type {\n",
              "        vertical-align: middle;\n",
              "    }\n",
              "\n",
              "    .dataframe tbody tr th {\n",
              "        vertical-align: top;\n",
              "    }\n",
              "\n",
              "    .dataframe thead th {\n",
              "        text-align: right;\n",
              "    }\n",
              "</style>\n",
              "<table border=\"1\" class=\"dataframe\">\n",
              "  <thead>\n",
              "    <tr style=\"text-align: right;\">\n",
              "      <th></th>\n",
              "      <th>cliente</th>\n",
              "      <th>fecNacimiento</th>\n",
              "      <th>sexo</th>\n",
              "      <th>fecha</th>\n",
              "      <th>monto</th>\n",
              "      <th>descuento</th>\n",
              "    </tr>\n",
              "  </thead>\n",
              "  <tbody>\n",
              "    <tr>\n",
              "      <th>3356</th>\n",
              "      <td>SID21</td>\n",
              "      <td>0013-08-16</td>\n",
              "      <td>Femenino</td>\n",
              "      <td>2021-02-10 10:56:44</td>\n",
              "      <td>1750.0</td>\n",
              "      <td>75.0</td>\n",
              "    </tr>\n",
              "  </tbody>\n",
              "</table>\n",
              "</div>"
            ],
            "text/plain": [
              "     cliente fecNacimiento      sexo               fecha   monto  descuento\n",
              "3356   SID21    0013-08-16  Femenino 2021-02-10 10:56:44  1750.0       75.0"
            ]
          },
          "metadata": {
            "tags": []
          },
          "execution_count": 85
        }
      ]
    },
    {
      "cell_type": "code",
      "metadata": {
        "id": "Loc6rNJs2PWg"
      },
      "source": [
        "# aplicar corrección para este caso en particular"
      ],
      "execution_count": null,
      "outputs": []
    },
    {
      "cell_type": "markdown",
      "metadata": {
        "id": "ThD7yZ_PAFiP"
      },
      "source": [
        "A aquellas fechas de nacimiento con año menor a 21 les aumentamos 2000"
      ]
    },
    {
      "cell_type": "code",
      "metadata": {
        "id": "zIOIgSb7wYOm"
      },
      "source": [
        "fecha_obtencion_dataset = datetime(2021,2,12).date()\n",
        "df.loc[df['fecNacimiento'] < fecha_obtencion_dataset.replace(year = fecha_obtencion_dataset.year - 2000),'fecNacimiento'] = [d.replace(year = d.year + 2000) for d in df.loc[df['fecNacimiento'] < fecha_obtencion_dataset.replace(year = fecha_obtencion_dataset.year - 2000)]['fecNacimiento']]"
      ],
      "execution_count": null,
      "outputs": []
    },
    {
      "cell_type": "markdown",
      "metadata": {
        "id": "5CnHZoBlAT79"
      },
      "source": [
        "Por otro lado, a las mayores a 21 pero menores a 100, les aumentamos 1900"
      ]
    },
    {
      "cell_type": "code",
      "metadata": {
        "id": "JQypn9V2AD9g"
      },
      "source": [
        "df.loc[df['fecNacimiento'] < datetime(100,1,1).date(),'fecNacimiento'] = [d.replace(year = d.year + 1900) for d in df.loc[df['fecNacimiento'] < datetime(100,1,1).date()]['fecNacimiento']]"
      ],
      "execution_count": null,
      "outputs": []
    },
    {
      "cell_type": "markdown",
      "metadata": {
        "id": "00c30K2OGc63"
      },
      "source": [
        "La fecha de nacimiento `1900-01-01` se debe a un error del sistema. Tenemos una cantidad considerable de clientes con este error."
      ]
    },
    {
      "cell_type": "code",
      "metadata": {
        "id": "3Ld60j35LchN",
        "colab": {
          "base_uri": "https://localhost:8080/"
        },
        "outputId": "76e32087-aaac-402a-b82d-6d7b56b01897"
      },
      "source": [
        "len(df[df['fecNacimiento'] == datetime(1900,1,1).date()]['cliente'].unique())"
      ],
      "execution_count": null,
      "outputs": [
        {
          "output_type": "execute_result",
          "data": {
            "text/plain": [
              "176"
            ]
          },
          "metadata": {
            "tags": []
          },
          "execution_count": 89
        }
      ]
    },
    {
      "cell_type": "markdown",
      "metadata": {
        "id": "oNDsSh7TWRcX"
      },
      "source": [
        "Los clientes con fecha de nacimiento errónea no tienen sexo vacío, por lo que no se les podría considerar como anónimos."
      ]
    },
    {
      "cell_type": "code",
      "metadata": {
        "id": "rVGVfb0jS1_Y",
        "colab": {
          "base_uri": "https://localhost:8080/"
        },
        "outputId": "35096e78-2afd-454c-d41b-0c1ec0351c98"
      },
      "source": [
        "len(df[(df['fecNacimiento'] == datetime(1900,1,1).date()) & (pd.isna(df['sexo']))]['cliente'].unique())"
      ],
      "execution_count": null,
      "outputs": [
        {
          "output_type": "execute_result",
          "data": {
            "text/plain": [
              "0"
            ]
          },
          "metadata": {
            "tags": []
          },
          "execution_count": 90
        }
      ]
    },
    {
      "cell_type": "markdown",
      "metadata": {
        "id": "ULmjoqMUezW5"
      },
      "source": [
        "Reemplazamos estos casos erróneos por valor nulo."
      ]
    },
    {
      "cell_type": "code",
      "metadata": {
        "id": "ZE5qQ1-MexV_"
      },
      "source": [
        "df.loc[df['fecNacimiento'] == datetime(1900,1,1).date(), 'fecNacimiento'] = np.nan"
      ],
      "execution_count": null,
      "outputs": []
    },
    {
      "cell_type": "markdown",
      "metadata": {
        "id": "6mGypH80hMFx"
      },
      "source": [
        "Revisamos nuevamente los valores únicos luego de haber aplicado las correcciones."
      ]
    },
    {
      "cell_type": "code",
      "metadata": {
        "id": "ehNa7jkyhLg0",
        "colab": {
          "base_uri": "https://localhost:8080/"
        },
        "outputId": "56157187-2424-49e0-f51c-6018b9340cab"
      },
      "source": [
        "mostrar_unicos_fecNacimiento()"
      ],
      "execution_count": null,
      "outputs": [
        {
          "output_type": "stream",
          "text": [
            "1938-10-25\n",
            "1944-11-17\n",
            "1945-09-29\n",
            "1947-11-19\n",
            "1947-12-03\n",
            "1949-08-05\n",
            "1950-01-12\n",
            "1950-03-06\n",
            "1952-07-16\n",
            "1953-08-29\n",
            "1954-06-11\n",
            "1955-09-13\n",
            "1956-10-10\n",
            "1958-02-19\n",
            "1959-09-23\n",
            "1960-02-27\n",
            "1960-07-25\n",
            "1960-09-20\n",
            "1961-04-14\n",
            "1961-05-10\n",
            "1961-06-02\n",
            "1962-03-01\n",
            "1962-04-08\n",
            "1964-11-10\n",
            "1965-02-19\n",
            "1965-08-10\n",
            "1966-11-11\n",
            "1967-03-18\n",
            "1967-05-17\n",
            "1967-06-26\n",
            "1967-07-20\n",
            "1967-08-28\n",
            "1967-12-24\n",
            "1968-03-02\n",
            "1968-04-03\n",
            "1968-06-24\n",
            "1968-08-14\n",
            "1969-02-13\n",
            "1969-07-20\n",
            "1969-12-13\n",
            "1970-01-05\n",
            "1970-01-06\n",
            "1970-02-06\n",
            "1970-06-30\n",
            "1970-08-15\n",
            "1971-02-16\n",
            "1971-02-28\n",
            "1971-10-04\n",
            "1972-01-15\n",
            "1972-04-11\n",
            "1972-05-18\n",
            "1972-06-24\n",
            "1972-07-13\n",
            "1973-05-20\n",
            "1973-11-17\n",
            "1974-06-24\n",
            "1974-08-30\n",
            "1975-10-11\n",
            "1975-11-26\n",
            "1976-01-02\n",
            "1976-02-28\n",
            "1976-04-02\n",
            "1976-05-15\n",
            "1976-07-05\n",
            "1976-07-18\n",
            "1977-09-22\n",
            "1977-12-17\n",
            "1978-03-19\n",
            "1978-06-24\n",
            "1978-06-30\n",
            "1978-11-15\n",
            "1979-03-29\n",
            "1979-08-07\n",
            "1979-09-20\n",
            "1979-09-23\n",
            "1979-10-24\n",
            "1980-08-25\n",
            "1981-04-01\n",
            "1981-06-06\n",
            "1981-08-26\n",
            "1981-12-20\n",
            "1982-03-02\n",
            "1983-01-16\n",
            "1983-08-22\n",
            "1984-01-30\n",
            "1984-05-23\n",
            "1984-07-22\n",
            "1986-04-28\n",
            "1986-06-18\n",
            "1987-12-18\n",
            "1988-05-02\n",
            "1989-06-22\n",
            "1989-07-01\n",
            "1989-09-28\n",
            "1990-05-15\n",
            "1990-12-17\n",
            "1991-04-11\n",
            "1991-07-11\n",
            "1993-02-01\n",
            "1993-02-19\n",
            "1993-12-02\n",
            "1993-12-14\n",
            "1994-03-14\n",
            "1994-07-27\n",
            "1995-03-21\n",
            "1995-12-31\n",
            "1996-01-18\n",
            "1996-02-13\n",
            "1996-12-20\n",
            "1997-01-01\n",
            "1997-02-20\n",
            "1998-05-13\n",
            "2001-08-06\n",
            "2002-03-24\n",
            "2013-08-16\n",
            "nan\n"
          ],
          "name": "stdout"
        }
      ]
    },
    {
      "cell_type": "markdown",
      "metadata": {
        "id": "6SYWndl7BR-7"
      },
      "source": [
        "Revisamos la cantidad de valores únicos de la variable `fecNacimiento` por cliente:"
      ]
    },
    {
      "cell_type": "code",
      "metadata": {
        "id": "J8WcelrZgJKv",
        "colab": {
          "base_uri": "https://localhost:8080/"
        },
        "outputId": "3bbca67f-a0da-4fb6-8164-12605e1f9fbe"
      },
      "source": [
        "nacimiento = df.groupby('cliente')['fecNacimiento'].nunique()\n",
        "nacimiento"
      ],
      "execution_count": null,
      "outputs": [
        {
          "output_type": "execute_result",
          "data": {
            "text/plain": [
              "cliente\n",
              "SID1      0\n",
              "SID10     1\n",
              "SID100    1\n",
              "SID101    0\n",
              "SID102    1\n",
              "SID103    1\n",
              "SID104    1\n",
              "SID105    1\n",
              "SID106    0\n",
              "SID107    1\n",
              "SID108    1\n",
              "SID109    0\n",
              "SID111    0\n",
              "SID113    1\n",
              "SID114    1\n",
              "SID115    0\n",
              "SID116    0\n",
              "SID118    0\n",
              "SID119    0\n",
              "SID12     1\n",
              "SID120    1\n",
              "SID121    0\n",
              "SID122    0\n",
              "SID124    1\n",
              "SID125    0\n",
              "SID126    0\n",
              "SID127    0\n",
              "SID128    0\n",
              "SID129    0\n",
              "SID13     1\n",
              "SID130    0\n",
              "SID131    1\n",
              "SID132    1\n",
              "SID133    1\n",
              "SID134    1\n",
              "SID135    1\n",
              "SID136    1\n",
              "SID137    1\n",
              "SID138    1\n",
              "SID139    1\n",
              "SID14     1\n",
              "SID140    1\n",
              "SID141    1\n",
              "SID142    1\n",
              "SID143    1\n",
              "SID144    1\n",
              "SID147    0\n",
              "SID148    0\n",
              "SID15     1\n",
              "SID150    0\n",
              "SID151    0\n",
              "SID152    0\n",
              "SID153    0\n",
              "SID155    0\n",
              "SID157    0\n",
              "SID158    0\n",
              "SID16     1\n",
              "SID160    0\n",
              "SID162    0\n",
              "SID165    0\n",
              "SID17     1\n",
              "SID170    0\n",
              "SID171    0\n",
              "SID172    0\n",
              "SID173    0\n",
              "SID174    0\n",
              "SID175    0\n",
              "SID177    0\n",
              "SID178    0\n",
              "SID18     1\n",
              "SID180    1\n",
              "SID184    0\n",
              "SID19     1\n",
              "SID191    0\n",
              "SID197    0\n",
              "SID2      1\n",
              "SID20     1\n",
              "SID201    1\n",
              "SID202    0\n",
              "SID203    0\n",
              "SID204    0\n",
              "SID205    0\n",
              "SID207    0\n",
              "SID208    0\n",
              "SID209    0\n",
              "SID21     1\n",
              "SID210    0\n",
              "SID211    0\n",
              "SID213    0\n",
              "SID216    0\n",
              "SID219    0\n",
              "SID224    0\n",
              "SID227    0\n",
              "SID228    0\n",
              "SID23     1\n",
              "SID230    0\n",
              "SID234    0\n",
              "SID237    0\n",
              "SID24     1\n",
              "SID243    0\n",
              "SID244    0\n",
              "SID245    0\n",
              "SID246    0\n",
              "SID247    0\n",
              "SID248    0\n",
              "SID249    0\n",
              "SID25     1\n",
              "SID250    0\n",
              "SID251    0\n",
              "SID252    0\n",
              "SID253    0\n",
              "SID254    0\n",
              "SID255    0\n",
              "SID256    0\n",
              "SID257    0\n",
              "SID258    0\n",
              "SID259    0\n",
              "SID26     1\n",
              "SID260    0\n",
              "SID261    0\n",
              "SID262    0\n",
              "SID263    0\n",
              "SID264    0\n",
              "SID265    1\n",
              "SID266    0\n",
              "SID267    0\n",
              "SID268    0\n",
              "SID269    0\n",
              "SID27     1\n",
              "SID270    0\n",
              "SID272    0\n",
              "SID273    0\n",
              "SID274    0\n",
              "SID275    0\n",
              "SID276    0\n",
              "SID277    0\n",
              "SID278    0\n",
              "SID279    0\n",
              "SID28     1\n",
              "SID280    1\n",
              "SID281    0\n",
              "SID282    0\n",
              "SID283    0\n",
              "SID286    0\n",
              "SID287    0\n",
              "SID288    0\n",
              "SID289    0\n",
              "SID29     1\n",
              "SID291    0\n",
              "SID292    0\n",
              "SID293    0\n",
              "SID294    0\n",
              "SID295    0\n",
              "SID296    0\n",
              "SID298    0\n",
              "SID299    0\n",
              "SID3      1\n",
              "SID30     1\n",
              "SID300    0\n",
              "SID301    0\n",
              "SID302    0\n",
              "SID303    0\n",
              "SID304    0\n",
              "SID305    0\n",
              "SID306    0\n",
              "SID307    0\n",
              "SID308    0\n",
              "SID309    0\n",
              "SID31     1\n",
              "SID310    0\n",
              "SID311    0\n",
              "SID313    0\n",
              "SID314    0\n",
              "SID315    0\n",
              "SID316    0\n",
              "SID317    0\n",
              "SID319    0\n",
              "SID32     1\n",
              "SID320    0\n",
              "SID321    0\n",
              "SID323    0\n",
              "SID324    0\n",
              "SID325    0\n",
              "SID326    0\n",
              "SID327    0\n",
              "SID328    0\n",
              "SID33     1\n",
              "SID332    0\n",
              "SID334    0\n",
              "SID335    0\n",
              "SID336    0\n",
              "SID337    0\n",
              "SID338    0\n",
              "SID339    0\n",
              "SID34     1\n",
              "SID340    0\n",
              "SID341    0\n",
              "SID342    0\n",
              "SID343    0\n",
              "SID344    0\n",
              "SID345    0\n",
              "SID346    0\n",
              "SID347    0\n",
              "SID348    0\n",
              "SID349    0\n",
              "SID35     1\n",
              "SID350    0\n",
              "SID351    0\n",
              "SID352    0\n",
              "SID353    0\n",
              "SID354    0\n",
              "SID355    0\n",
              "SID356    0\n",
              "SID359    0\n",
              "SID36     1\n",
              "SID360    0\n",
              "SID361    0\n",
              "SID365    0\n",
              "SID366    0\n",
              "SID367    0\n",
              "SID368    0\n",
              "SID369    0\n",
              "SID370    0\n",
              "SID371    0\n",
              "SID374    0\n",
              "SID375    0\n",
              "SID376    0\n",
              "SID377    0\n",
              "SID378    0\n",
              "SID379    0\n",
              "SID38     1\n",
              "SID39     1\n",
              "SID4      1\n",
              "SID40     1\n",
              "SID41     1\n",
              "SID42     1\n",
              "SID43     1\n",
              "SID44     1\n",
              "SID45     1\n",
              "SID46     1\n",
              "SID47     1\n",
              "SID48     1\n",
              "SID49     1\n",
              "SID5      1\n",
              "SID50     1\n",
              "SID52     1\n",
              "SID53     1\n",
              "SID54     1\n",
              "SID55     1\n",
              "SID56     1\n",
              "SID57     1\n",
              "SID58     1\n",
              "SID59     1\n",
              "SID6      1\n",
              "SID61     1\n",
              "SID63     1\n",
              "SID65     1\n",
              "SID66     1\n",
              "SID67     1\n",
              "SID68     1\n",
              "SID69     1\n",
              "SID7      1\n",
              "SID70     1\n",
              "SID71     1\n",
              "SID72     1\n",
              "SID73     1\n",
              "SID74     1\n",
              "SID75     1\n",
              "SID76     1\n",
              "SID77     1\n",
              "SID78     1\n",
              "SID79     1\n",
              "SID8      1\n",
              "SID80     1\n",
              "SID81     1\n",
              "SID82     1\n",
              "SID83     1\n",
              "SID84     1\n",
              "SID85     1\n",
              "SID86     1\n",
              "SID87     1\n",
              "SID88     1\n",
              "SID89     1\n",
              "SID9      1\n",
              "SID90     1\n",
              "SID91     0\n",
              "SID92     0\n",
              "SID93     0\n",
              "SID94     1\n",
              "SID95     0\n",
              "SID96     0\n",
              "SID97     1\n",
              "SID98     1\n",
              "SID99     1\n",
              "Name: fecNacimiento, dtype: int64"
            ]
          },
          "metadata": {
            "tags": []
          },
          "execution_count": 93
        }
      ]
    },
    {
      "cell_type": "markdown",
      "metadata": {
        "id": "oqaY5dVFjTIm"
      },
      "source": [
        "Cantidad de clientes con valor vacío en la variable `fecNacimiento`"
      ]
    },
    {
      "cell_type": "code",
      "metadata": {
        "id": "e6fdIrLkgJKv",
        "colab": {
          "base_uri": "https://localhost:8080/"
        },
        "outputId": "1d566fb2-cabf-4239-96cd-843df274fd35"
      },
      "source": [
        "sum(nacimiento == 0)"
      ],
      "execution_count": null,
      "outputs": [
        {
          "output_type": "execute_result",
          "data": {
            "text/plain": [
              "179"
            ]
          },
          "metadata": {
            "tags": []
          },
          "execution_count": 94
        }
      ]
    },
    {
      "cell_type": "markdown",
      "metadata": {
        "id": "LFkTOBtUjRdr"
      },
      "source": [
        "Cantidad de clientes con un solo valor de `fecNacimiento`"
      ]
    },
    {
      "cell_type": "code",
      "metadata": {
        "id": "LffwGBPggJKw",
        "colab": {
          "base_uri": "https://localhost:8080/"
        },
        "outputId": "f82a2966-eacf-4965-961e-371db50a222e"
      },
      "source": [
        "sum(nacimiento == 1)"
      ],
      "execution_count": null,
      "outputs": [
        {
          "output_type": "execute_result",
          "data": {
            "text/plain": [
              "115"
            ]
          },
          "metadata": {
            "tags": []
          },
          "execution_count": 95
        }
      ]
    },
    {
      "cell_type": "markdown",
      "metadata": {
        "id": "dMZbs_3WjlKY"
      },
      "source": [
        "Cantidad de clientes con más de un valor de `fecNacimiento`"
      ]
    },
    {
      "cell_type": "code",
      "metadata": {
        "id": "0B7cJxF4jlKa",
        "colab": {
          "base_uri": "https://localhost:8080/"
        },
        "outputId": "082fb5b7-7ce1-4483-8179-c6ca73b4e93d"
      },
      "source": [
        "sum(nacimiento > 1)"
      ],
      "execution_count": null,
      "outputs": [
        {
          "output_type": "execute_result",
          "data": {
            "text/plain": [
              "0"
            ]
          },
          "metadata": {
            "tags": []
          },
          "execution_count": 96
        }
      ]
    },
    {
      "cell_type": "markdown",
      "metadata": {
        "id": "SRX01fIkig_z"
      },
      "source": [
        "####Variable `sexo`"
      ]
    },
    {
      "cell_type": "markdown",
      "metadata": {
        "id": "Ylia7a_og_XM"
      },
      "source": [
        "Cantidad de valores únicos que puede tomar la variable `sexo`"
      ]
    },
    {
      "cell_type": "code",
      "metadata": {
        "id": "s4XJKPA8gJKq",
        "colab": {
          "base_uri": "https://localhost:8080/"
        },
        "outputId": "6735caea-f3a7-4499-aedc-24a51410c096"
      },
      "source": [
        "df['sexo'].nunique()"
      ],
      "execution_count": null,
      "outputs": [
        {
          "output_type": "execute_result",
          "data": {
            "text/plain": [
              "3"
            ]
          },
          "metadata": {
            "tags": []
          },
          "execution_count": 97
        }
      ]
    },
    {
      "cell_type": "markdown",
      "metadata": {
        "id": "eSIbJKJviTLA"
      },
      "source": [
        "Notamos que el valor `Femenino` también ha sido registrado con minúscula:"
      ]
    },
    {
      "cell_type": "code",
      "metadata": {
        "scrolled": false,
        "id": "WlBs2v9qgJKq",
        "colab": {
          "base_uri": "https://localhost:8080/"
        },
        "outputId": "e6ef78bb-75ce-4109-dab5-cbe33aeb86ce"
      },
      "source": [
        "df['sexo'].unique()"
      ],
      "execution_count": null,
      "outputs": [
        {
          "output_type": "execute_result",
          "data": {
            "text/plain": [
              "array([nan, 'Femenino', 'Masculino', 'femenino'], dtype=object)"
            ]
          },
          "metadata": {
            "tags": []
          },
          "execution_count": 98
        }
      ]
    },
    {
      "cell_type": "markdown",
      "metadata": {
        "id": "_jOLKkFQi8yI"
      },
      "source": [
        "Estandarizamos los valores de la variable:"
      ]
    },
    {
      "cell_type": "code",
      "metadata": {
        "id": "bs58KgGrioym"
      },
      "source": [
        "df.loc[df['sexo'] == 'femenino','sexo'] = 'Femenino'"
      ],
      "execution_count": null,
      "outputs": []
    },
    {
      "cell_type": "markdown",
      "metadata": {
        "id": "3ODbxMkEhU8e"
      },
      "source": [
        "Verificamos valores únicos de la variable sexo por cliente"
      ]
    },
    {
      "cell_type": "code",
      "metadata": {
        "id": "WE42JgCWgJKs",
        "colab": {
          "base_uri": "https://localhost:8080/"
        },
        "outputId": "a9c07101-ac44-4502-ef85-29ebaed4621e"
      },
      "source": [
        "sexo = df.groupby('cliente')['sexo'].nunique()\n",
        "sexo"
      ],
      "execution_count": null,
      "outputs": [
        {
          "output_type": "execute_result",
          "data": {
            "text/plain": [
              "cliente\n",
              "SID1      0\n",
              "SID10     1\n",
              "SID100    1\n",
              "SID101    1\n",
              "SID102    1\n",
              "SID103    1\n",
              "SID104    1\n",
              "SID105    1\n",
              "SID106    1\n",
              "SID107    1\n",
              "SID108    1\n",
              "SID109    1\n",
              "SID111    1\n",
              "SID113    1\n",
              "SID114    1\n",
              "SID115    1\n",
              "SID116    1\n",
              "SID118    1\n",
              "SID119    1\n",
              "SID12     1\n",
              "SID120    1\n",
              "SID121    1\n",
              "SID122    1\n",
              "SID124    1\n",
              "SID125    1\n",
              "SID126    1\n",
              "SID127    1\n",
              "SID128    1\n",
              "SID129    1\n",
              "SID13     1\n",
              "SID130    1\n",
              "SID131    1\n",
              "SID132    1\n",
              "SID133    1\n",
              "SID134    1\n",
              "SID135    1\n",
              "SID136    1\n",
              "SID137    1\n",
              "SID138    1\n",
              "SID139    1\n",
              "SID14     1\n",
              "SID140    1\n",
              "SID141    1\n",
              "SID142    1\n",
              "SID143    1\n",
              "SID144    1\n",
              "SID147    1\n",
              "SID148    1\n",
              "SID15     1\n",
              "SID150    1\n",
              "SID151    1\n",
              "SID152    1\n",
              "SID153    1\n",
              "SID155    1\n",
              "SID157    1\n",
              "SID158    1\n",
              "SID16     1\n",
              "SID160    1\n",
              "SID162    1\n",
              "SID165    1\n",
              "SID17     1\n",
              "SID170    1\n",
              "SID171    1\n",
              "SID172    1\n",
              "SID173    1\n",
              "SID174    1\n",
              "SID175    1\n",
              "SID177    1\n",
              "SID178    1\n",
              "SID18     1\n",
              "SID180    1\n",
              "SID184    1\n",
              "SID19     1\n",
              "SID191    1\n",
              "SID197    1\n",
              "SID2      1\n",
              "SID20     1\n",
              "SID201    1\n",
              "SID202    1\n",
              "SID203    1\n",
              "SID204    1\n",
              "SID205    1\n",
              "SID207    1\n",
              "SID208    1\n",
              "SID209    1\n",
              "SID21     1\n",
              "SID210    1\n",
              "SID211    1\n",
              "SID213    1\n",
              "SID216    1\n",
              "SID219    1\n",
              "SID224    1\n",
              "SID227    1\n",
              "SID228    1\n",
              "SID23     1\n",
              "SID230    1\n",
              "SID234    1\n",
              "SID237    1\n",
              "SID24     1\n",
              "SID243    1\n",
              "SID244    1\n",
              "SID245    1\n",
              "SID246    1\n",
              "SID247    1\n",
              "SID248    1\n",
              "SID249    1\n",
              "SID25     1\n",
              "SID250    1\n",
              "SID251    1\n",
              "SID252    1\n",
              "SID253    1\n",
              "SID254    1\n",
              "SID255    1\n",
              "SID256    1\n",
              "SID257    1\n",
              "SID258    1\n",
              "SID259    1\n",
              "SID26     1\n",
              "SID260    1\n",
              "SID261    1\n",
              "SID262    1\n",
              "SID263    1\n",
              "SID264    1\n",
              "SID265    1\n",
              "SID266    1\n",
              "SID267    1\n",
              "SID268    1\n",
              "SID269    1\n",
              "SID27     1\n",
              "SID270    1\n",
              "SID272    1\n",
              "SID273    1\n",
              "SID274    1\n",
              "SID275    1\n",
              "SID276    1\n",
              "SID277    1\n",
              "SID278    1\n",
              "SID279    1\n",
              "SID28     1\n",
              "SID280    1\n",
              "SID281    1\n",
              "SID282    1\n",
              "SID283    1\n",
              "SID286    1\n",
              "SID287    1\n",
              "SID288    1\n",
              "SID289    1\n",
              "SID29     1\n",
              "SID291    1\n",
              "SID292    1\n",
              "SID293    1\n",
              "SID294    1\n",
              "SID295    1\n",
              "SID296    1\n",
              "SID298    1\n",
              "SID299    1\n",
              "SID3      1\n",
              "SID30     1\n",
              "SID300    1\n",
              "SID301    1\n",
              "SID302    1\n",
              "SID303    1\n",
              "SID304    1\n",
              "SID305    1\n",
              "SID306    1\n",
              "SID307    1\n",
              "SID308    1\n",
              "SID309    1\n",
              "SID31     1\n",
              "SID310    1\n",
              "SID311    1\n",
              "SID313    1\n",
              "SID314    1\n",
              "SID315    1\n",
              "SID316    1\n",
              "SID317    1\n",
              "SID319    1\n",
              "SID32     1\n",
              "SID320    1\n",
              "SID321    1\n",
              "SID323    1\n",
              "SID324    1\n",
              "SID325    1\n",
              "SID326    1\n",
              "SID327    1\n",
              "SID328    1\n",
              "SID33     1\n",
              "SID332    1\n",
              "SID334    1\n",
              "SID335    1\n",
              "SID336    1\n",
              "SID337    1\n",
              "SID338    1\n",
              "SID339    1\n",
              "SID34     1\n",
              "SID340    1\n",
              "SID341    1\n",
              "SID342    1\n",
              "SID343    1\n",
              "SID344    1\n",
              "SID345    1\n",
              "SID346    1\n",
              "SID347    1\n",
              "SID348    1\n",
              "SID349    1\n",
              "SID35     1\n",
              "SID350    1\n",
              "SID351    1\n",
              "SID352    1\n",
              "SID353    1\n",
              "SID354    1\n",
              "SID355    1\n",
              "SID356    1\n",
              "SID359    1\n",
              "SID36     1\n",
              "SID360    1\n",
              "SID361    1\n",
              "SID365    1\n",
              "SID366    1\n",
              "SID367    1\n",
              "SID368    1\n",
              "SID369    1\n",
              "SID370    1\n",
              "SID371    1\n",
              "SID374    1\n",
              "SID375    1\n",
              "SID376    1\n",
              "SID377    1\n",
              "SID378    1\n",
              "SID379    1\n",
              "SID38     1\n",
              "SID39     1\n",
              "SID4      1\n",
              "SID40     1\n",
              "SID41     1\n",
              "SID42     1\n",
              "SID43     1\n",
              "SID44     1\n",
              "SID45     1\n",
              "SID46     1\n",
              "SID47     1\n",
              "SID48     1\n",
              "SID49     1\n",
              "SID5      1\n",
              "SID50     1\n",
              "SID52     1\n",
              "SID53     1\n",
              "SID54     1\n",
              "SID55     1\n",
              "SID56     1\n",
              "SID57     1\n",
              "SID58     1\n",
              "SID59     1\n",
              "SID6      1\n",
              "SID61     1\n",
              "SID63     1\n",
              "SID65     1\n",
              "SID66     1\n",
              "SID67     1\n",
              "SID68     1\n",
              "SID69     1\n",
              "SID7      1\n",
              "SID70     1\n",
              "SID71     1\n",
              "SID72     1\n",
              "SID73     1\n",
              "SID74     1\n",
              "SID75     1\n",
              "SID76     1\n",
              "SID77     1\n",
              "SID78     1\n",
              "SID79     1\n",
              "SID8      1\n",
              "SID80     1\n",
              "SID81     1\n",
              "SID82     1\n",
              "SID83     1\n",
              "SID84     1\n",
              "SID85     1\n",
              "SID86     1\n",
              "SID87     1\n",
              "SID88     1\n",
              "SID89     1\n",
              "SID9      1\n",
              "SID90     1\n",
              "SID91     1\n",
              "SID92     1\n",
              "SID93     1\n",
              "SID94     1\n",
              "SID95     1\n",
              "SID96     1\n",
              "SID97     1\n",
              "SID98     1\n",
              "SID99     1\n",
              "Name: sexo, dtype: int64"
            ]
          },
          "metadata": {
            "tags": []
          },
          "execution_count": 100
        }
      ]
    },
    {
      "cell_type": "markdown",
      "metadata": {
        "id": "bIRMxd8mhwNW"
      },
      "source": [
        "Cantidad de clientes con NAN en la variable sexo"
      ]
    },
    {
      "cell_type": "code",
      "metadata": {
        "id": "klyD5ChrgJKt",
        "colab": {
          "base_uri": "https://localhost:8080/"
        },
        "outputId": "3d420e61-b4b6-49ec-f93e-2b10a1fc7257"
      },
      "source": [
        "sum(sexo == 0)"
      ],
      "execution_count": null,
      "outputs": [
        {
          "output_type": "execute_result",
          "data": {
            "text/plain": [
              "1"
            ]
          },
          "metadata": {
            "tags": []
          },
          "execution_count": 101
        }
      ]
    },
    {
      "cell_type": "markdown",
      "metadata": {
        "id": "ALXxY0HHhyx9"
      },
      "source": [
        "Cantidad de clientes con 1 sexo"
      ]
    },
    {
      "cell_type": "code",
      "metadata": {
        "id": "Dttk4G_lgJKu",
        "colab": {
          "base_uri": "https://localhost:8080/"
        },
        "outputId": "3f8b8aad-6e41-4fdb-d1af-d2cf08678458"
      },
      "source": [
        "sum(sexo == 1)"
      ],
      "execution_count": null,
      "outputs": [
        {
          "output_type": "execute_result",
          "data": {
            "text/plain": [
              "293"
            ]
          },
          "metadata": {
            "tags": []
          },
          "execution_count": 102
        }
      ]
    },
    {
      "cell_type": "markdown",
      "metadata": {
        "id": "TBm7ndDkiKPC"
      },
      "source": [
        "Cantidad de clientes con más de 1 sexo"
      ]
    },
    {
      "cell_type": "code",
      "metadata": {
        "id": "o-DjlZFbiJx_",
        "colab": {
          "base_uri": "https://localhost:8080/"
        },
        "outputId": "42a4c056-500d-4654-b40f-8a0885227114"
      },
      "source": [
        "sum(sexo > 1)"
      ],
      "execution_count": null,
      "outputs": [
        {
          "output_type": "execute_result",
          "data": {
            "text/plain": [
              "0"
            ]
          },
          "metadata": {
            "tags": []
          },
          "execution_count": 103
        }
      ]
    },
    {
      "cell_type": "markdown",
      "metadata": {
        "id": "K1ovTa0BjmTo"
      },
      "source": [
        "####Variable `fecha`"
      ]
    },
    {
      "cell_type": "markdown",
      "metadata": {
        "id": "62ACZuXjlO3w"
      },
      "source": [
        "El formato en el que viene esta fecha es `yyyy-MM-dd hh:mm:ss`. Notamos que, al momento de aplicar los conversores en la carga del dataset, no saltó ningún error, por lo que descartamos que existan fechas inválidas."
      ]
    },
    {
      "cell_type": "markdown",
      "metadata": {
        "id": "BQkp4Rtq_nOV"
      },
      "source": [
        "Revisamos si hay valores nulos."
      ]
    },
    {
      "cell_type": "code",
      "metadata": {
        "id": "o24nruj0_ppq",
        "colab": {
          "base_uri": "https://localhost:8080/"
        },
        "outputId": "e0113e18-5028-41d2-9b14-81b0cffb46c4"
      },
      "source": [
        "len(df[pd.isna(df['fecha'])])"
      ],
      "execution_count": null,
      "outputs": [
        {
          "output_type": "execute_result",
          "data": {
            "text/plain": [
              "0"
            ]
          },
          "metadata": {
            "tags": []
          },
          "execution_count": 104
        }
      ]
    },
    {
      "cell_type": "markdown",
      "metadata": {
        "id": "G-DxujfI_tb2"
      },
      "source": [
        "A diferencia de la otra variable de tipo fecha, no tenemos ningún vacío."
      ]
    },
    {
      "cell_type": "markdown",
      "metadata": {
        "id": "0ktOi8T__2iY"
      },
      "source": [
        "Revisamos, excluyendo la parte de la hora, los valores únicos de esta variable."
      ]
    },
    {
      "cell_type": "code",
      "metadata": {
        "id": "JNFtCxhVjmTp"
      },
      "source": [
        "def mostrar_unicos_fecha_sin_hora():\n",
        "    for fecha in np.sort(df['fecha'].map(datetime.date).unique()): \n",
        "        print(fecha)"
      ],
      "execution_count": null,
      "outputs": []
    },
    {
      "cell_type": "code",
      "metadata": {
        "id": "9iuplWRn9OIN",
        "colab": {
          "base_uri": "https://localhost:8080/"
        },
        "outputId": "d2ce9d71-f7be-4ce6-8b40-bd670399a191"
      },
      "source": [
        "mostrar_unicos_fecha_sin_hora()"
      ],
      "execution_count": null,
      "outputs": [
        {
          "output_type": "stream",
          "text": [
            "2020-07-08\n",
            "2020-07-09\n",
            "2020-07-10\n",
            "2020-07-11\n",
            "2020-07-13\n",
            "2020-07-14\n",
            "2020-07-15\n",
            "2020-07-16\n",
            "2020-07-17\n",
            "2020-07-18\n",
            "2020-07-20\n",
            "2020-07-21\n",
            "2020-07-22\n",
            "2020-07-23\n",
            "2020-07-24\n",
            "2020-07-25\n",
            "2020-07-27\n",
            "2020-07-29\n",
            "2020-07-30\n",
            "2020-07-31\n",
            "2020-08-01\n",
            "2020-08-03\n",
            "2020-08-04\n",
            "2020-08-05\n",
            "2020-08-06\n",
            "2020-08-07\n",
            "2020-08-08\n",
            "2020-08-10\n",
            "2020-08-11\n",
            "2020-08-12\n",
            "2020-08-13\n",
            "2020-08-14\n",
            "2020-08-15\n",
            "2020-08-17\n",
            "2020-08-18\n",
            "2020-08-19\n",
            "2020-08-20\n",
            "2020-08-21\n",
            "2020-08-22\n",
            "2020-08-24\n",
            "2020-08-25\n",
            "2020-08-26\n",
            "2020-08-27\n",
            "2020-08-28\n",
            "2020-08-29\n",
            "2020-08-31\n",
            "2020-09-01\n",
            "2020-09-02\n",
            "2020-09-03\n",
            "2020-09-04\n",
            "2020-09-05\n",
            "2020-09-18\n",
            "2020-09-19\n",
            "2020-09-25\n",
            "2020-09-26\n",
            "2020-09-28\n",
            "2020-09-29\n",
            "2020-09-30\n",
            "2020-10-01\n",
            "2020-10-02\n",
            "2020-10-03\n",
            "2020-10-05\n",
            "2020-10-06\n",
            "2020-10-07\n",
            "2020-10-09\n",
            "2020-10-10\n",
            "2020-10-12\n",
            "2020-10-13\n",
            "2020-10-14\n",
            "2020-10-15\n",
            "2020-10-16\n",
            "2020-10-17\n",
            "2020-10-19\n",
            "2020-10-20\n",
            "2020-10-21\n",
            "2020-10-22\n",
            "2020-10-23\n",
            "2020-10-24\n",
            "2020-10-26\n",
            "2020-10-27\n",
            "2020-10-28\n",
            "2020-10-29\n",
            "2020-10-30\n",
            "2020-10-31\n",
            "2020-11-02\n",
            "2020-11-03\n",
            "2020-11-04\n",
            "2020-11-05\n",
            "2020-11-06\n",
            "2020-11-07\n",
            "2020-11-09\n",
            "2020-11-10\n",
            "2020-11-11\n",
            "2020-11-12\n",
            "2020-11-13\n",
            "2020-11-14\n",
            "2020-11-16\n",
            "2020-11-17\n",
            "2020-11-18\n",
            "2020-11-19\n",
            "2020-11-20\n",
            "2020-11-21\n",
            "2020-11-23\n",
            "2020-11-24\n",
            "2020-11-25\n",
            "2020-11-26\n",
            "2020-11-27\n",
            "2020-11-28\n",
            "2020-11-30\n",
            "2020-12-01\n",
            "2020-12-02\n",
            "2020-12-03\n",
            "2020-12-04\n",
            "2020-12-05\n",
            "2020-12-07\n",
            "2020-12-09\n",
            "2020-12-10\n",
            "2020-12-11\n",
            "2020-12-12\n",
            "2020-12-14\n",
            "2020-12-15\n",
            "2020-12-16\n",
            "2020-12-17\n",
            "2020-12-18\n",
            "2020-12-19\n",
            "2020-12-21\n",
            "2020-12-22\n",
            "2020-12-23\n",
            "2020-12-24\n",
            "2020-12-26\n",
            "2020-12-28\n",
            "2020-12-29\n",
            "2020-12-30\n",
            "2020-12-31\n",
            "2021-01-02\n",
            "2021-01-04\n",
            "2021-01-05\n",
            "2021-01-06\n",
            "2021-01-07\n",
            "2021-01-08\n",
            "2021-01-09\n",
            "2021-01-11\n",
            "2021-01-12\n",
            "2021-01-13\n",
            "2021-01-14\n",
            "2021-01-15\n",
            "2021-01-16\n",
            "2021-01-18\n",
            "2021-01-19\n",
            "2021-01-20\n",
            "2021-01-21\n",
            "2021-01-22\n",
            "2021-01-23\n",
            "2021-01-25\n",
            "2021-01-26\n",
            "2021-01-27\n",
            "2021-01-28\n",
            "2021-01-29\n",
            "2021-01-30\n",
            "2021-02-01\n",
            "2021-02-02\n",
            "2021-02-03\n",
            "2021-02-04\n",
            "2021-02-05\n",
            "2021-02-06\n",
            "2021-02-07\n",
            "2021-02-08\n",
            "2021-02-09\n",
            "2021-02-10\n",
            "2021-02-11\n",
            "2021-02-12\n"
          ],
          "name": "stdout"
        }
      ]
    },
    {
      "cell_type": "markdown",
      "metadata": {
        "id": "a-S5QACfAE_d"
      },
      "source": [
        "Las compras se han registrado desde julio del 2020 hasta febrero del 2021"
      ]
    },
    {
      "cell_type": "code",
      "metadata": {
        "id": "4Mh9bKKlAUae",
        "colab": {
          "base_uri": "https://localhost:8080/"
        },
        "outputId": "261334ac-bb52-4ca9-e4b2-016b317e1186"
      },
      "source": [
        "min_fecha = min(df['fecha'])\n",
        "max_fecha = max(df['fecha'])\n",
        "print('El mínimo valor en la variable fecha es \"{}\"'.format(min_fecha))\n",
        "print('El máximo valor en la variable fecha es \"{}\"'.format(max_fecha))"
      ],
      "execution_count": null,
      "outputs": [
        {
          "output_type": "stream",
          "text": [
            "El mínimo valor en la variable fecha es \"2020-07-08 08:50:34\"\n",
            "El máximo valor en la variable fecha es \"2021-02-12 17:01:13\"\n"
          ],
          "name": "stdout"
        }
      ]
    },
    {
      "cell_type": "markdown",
      "metadata": {
        "id": "f7yW_R9wHscz"
      },
      "source": [
        "Revisamos si hubo días en los que no hay registro de ventas."
      ]
    },
    {
      "cell_type": "code",
      "metadata": {
        "id": "-RnLi8S1C_9Z",
        "colab": {
          "base_uri": "https://localhost:8080/"
        },
        "outputId": "3dd8e2ee-bc23-4304-96f5-f64c0fc6794a"
      },
      "source": [
        "q_dias = (max_fecha.date() - min_fecha.date()).days\n",
        "calendario = [min_fecha.date() + timedelta(days = i) for i in range(q_dias)]\n",
        "fecha_unicos_sin_hora = np.sort(df[pd.isna(df['fecha']) == False]['fecha'].map(datetime.date).unique())\n",
        "\n",
        "i = 0\n",
        "fecha_no_encontrada = []\n",
        "for fecha_calendario in calendario:\n",
        "    if fecha_calendario == fecha_unicos_sin_hora[i]:\n",
        "        i += 1\n",
        "        continue\n",
        "    else:\n",
        "        fecha_no_encontrada.append(fecha_calendario)\n",
        "\n",
        "nombre_dias = {1: 'lunes', 2: 'martes', 3: 'miércoles', 4: 'jueves', 5: 'viernes', 6: 'sábado', 7: 'domingo'}\n",
        "print('Las siguientes {} fechas no están presentes dentro del periodo de días consecutivos entre la mínima y la máxima fecha de la variable:'.format(len(fecha_no_encontrada)))\n",
        "for fecha in fecha_no_encontrada:\n",
        "    print(fecha, nombre_dias[datetime.isoweekday(fecha)])"
      ],
      "execution_count": null,
      "outputs": [
        {
          "output_type": "stream",
          "text": [
            "Las siguientes 49 fechas no están presentes dentro del periodo de días consecutivos entre la mínima y la máxima fecha de la variable:\n",
            "2020-07-12 domingo\n",
            "2020-07-19 domingo\n",
            "2020-07-26 domingo\n",
            "2020-07-28 martes\n",
            "2020-08-02 domingo\n",
            "2020-08-09 domingo\n",
            "2020-08-16 domingo\n",
            "2020-08-23 domingo\n",
            "2020-08-30 domingo\n",
            "2020-09-06 domingo\n",
            "2020-09-07 lunes\n",
            "2020-09-08 martes\n",
            "2020-09-09 miércoles\n",
            "2020-09-10 jueves\n",
            "2020-09-11 viernes\n",
            "2020-09-12 sábado\n",
            "2020-09-13 domingo\n",
            "2020-09-14 lunes\n",
            "2020-09-15 martes\n",
            "2020-09-16 miércoles\n",
            "2020-09-17 jueves\n",
            "2020-09-20 domingo\n",
            "2020-09-21 lunes\n",
            "2020-09-22 martes\n",
            "2020-09-23 miércoles\n",
            "2020-09-24 jueves\n",
            "2020-09-27 domingo\n",
            "2020-10-04 domingo\n",
            "2020-10-08 jueves\n",
            "2020-10-11 domingo\n",
            "2020-10-18 domingo\n",
            "2020-10-25 domingo\n",
            "2020-11-01 domingo\n",
            "2020-11-08 domingo\n",
            "2020-11-15 domingo\n",
            "2020-11-22 domingo\n",
            "2020-11-29 domingo\n",
            "2020-12-06 domingo\n",
            "2020-12-08 martes\n",
            "2020-12-13 domingo\n",
            "2020-12-20 domingo\n",
            "2020-12-25 viernes\n",
            "2020-12-27 domingo\n",
            "2021-01-01 viernes\n",
            "2021-01-03 domingo\n",
            "2021-01-10 domingo\n",
            "2021-01-17 domingo\n",
            "2021-01-24 domingo\n",
            "2021-01-31 domingo\n"
          ],
          "name": "stdout"
        }
      ]
    },
    {
      "cell_type": "code",
      "metadata": {
        "id": "ehncibmqHc8x"
      },
      "source": [
        "def mostrar_unicos_fecha_time(timetuple_index):\n",
        "    fechas = df['fecha'].to_list()\n",
        "    attributes = map(lambda x: datetime.timetuple(x)[timetuple_index], fechas)\n",
        "    attributes = np.unique(list(attributes))\n",
        "    print('Tenemos {} valores únicos:'.format(len(attributes)))\n",
        "    for elemento in attributes: \n",
        "        print(elemento)"
      ],
      "execution_count": null,
      "outputs": []
    },
    {
      "cell_type": "markdown",
      "metadata": {
        "id": "gGtuU_exOa2G"
      },
      "source": [
        "Revisamos las horas únicas."
      ]
    },
    {
      "cell_type": "code",
      "metadata": {
        "id": "uYBES-frDPyS",
        "colab": {
          "base_uri": "https://localhost:8080/"
        },
        "outputId": "bea586e3-038d-4e51-e1e0-546e0d891b72"
      },
      "source": [
        "mostrar_unicos_fecha_time(3)"
      ],
      "execution_count": null,
      "outputs": [
        {
          "output_type": "stream",
          "text": [
            "Tenemos 15 valores únicos:\n",
            "6\n",
            "7\n",
            "8\n",
            "9\n",
            "10\n",
            "11\n",
            "12\n",
            "13\n",
            "14\n",
            "15\n",
            "16\n",
            "17\n",
            "18\n",
            "19\n",
            "20\n"
          ],
          "name": "stdout"
        }
      ]
    },
    {
      "cell_type": "markdown",
      "metadata": {
        "id": "e4ZeadgoOg1g"
      },
      "source": [
        "Revisamos los minutos únicos."
      ]
    },
    {
      "cell_type": "code",
      "metadata": {
        "id": "11QkBQ4_OSbQ",
        "colab": {
          "base_uri": "https://localhost:8080/"
        },
        "outputId": "0d044067-3642-4048-a9de-6b6fb8bdbe00"
      },
      "source": [
        "mostrar_unicos_fecha_time(4)"
      ],
      "execution_count": null,
      "outputs": [
        {
          "output_type": "stream",
          "text": [
            "Tenemos 60 valores únicos:\n",
            "0\n",
            "1\n",
            "2\n",
            "3\n",
            "4\n",
            "5\n",
            "6\n",
            "7\n",
            "8\n",
            "9\n",
            "10\n",
            "11\n",
            "12\n",
            "13\n",
            "14\n",
            "15\n",
            "16\n",
            "17\n",
            "18\n",
            "19\n",
            "20\n",
            "21\n",
            "22\n",
            "23\n",
            "24\n",
            "25\n",
            "26\n",
            "27\n",
            "28\n",
            "29\n",
            "30\n",
            "31\n",
            "32\n",
            "33\n",
            "34\n",
            "35\n",
            "36\n",
            "37\n",
            "38\n",
            "39\n",
            "40\n",
            "41\n",
            "42\n",
            "43\n",
            "44\n",
            "45\n",
            "46\n",
            "47\n",
            "48\n",
            "49\n",
            "50\n",
            "51\n",
            "52\n",
            "53\n",
            "54\n",
            "55\n",
            "56\n",
            "57\n",
            "58\n",
            "59\n"
          ],
          "name": "stdout"
        }
      ]
    },
    {
      "cell_type": "markdown",
      "metadata": {
        "id": "GrgBwke4OiGM"
      },
      "source": [
        "Revisamos los segundos únicos."
      ]
    },
    {
      "cell_type": "code",
      "metadata": {
        "id": "C5uBxOB1OUQV",
        "colab": {
          "base_uri": "https://localhost:8080/"
        },
        "outputId": "b5e7f0d9-e261-469d-eccd-76047b102dd8"
      },
      "source": [
        "mostrar_unicos_fecha_time(5)"
      ],
      "execution_count": null,
      "outputs": [
        {
          "output_type": "stream",
          "text": [
            "Tenemos 60 valores únicos:\n",
            "0\n",
            "1\n",
            "2\n",
            "3\n",
            "4\n",
            "5\n",
            "6\n",
            "7\n",
            "8\n",
            "9\n",
            "10\n",
            "11\n",
            "12\n",
            "13\n",
            "14\n",
            "15\n",
            "16\n",
            "17\n",
            "18\n",
            "19\n",
            "20\n",
            "21\n",
            "22\n",
            "23\n",
            "24\n",
            "25\n",
            "26\n",
            "27\n",
            "28\n",
            "29\n",
            "30\n",
            "31\n",
            "32\n",
            "33\n",
            "34\n",
            "35\n",
            "36\n",
            "37\n",
            "38\n",
            "39\n",
            "40\n",
            "41\n",
            "42\n",
            "43\n",
            "44\n",
            "45\n",
            "46\n",
            "47\n",
            "48\n",
            "49\n",
            "50\n",
            "51\n",
            "52\n",
            "53\n",
            "54\n",
            "55\n",
            "56\n",
            "57\n",
            "58\n",
            "59\n"
          ],
          "name": "stdout"
        }
      ]
    },
    {
      "cell_type": "markdown",
      "metadata": {
        "id": "ChdX9lRaio4O"
      },
      "source": [
        "####Variable `monto`"
      ]
    },
    {
      "cell_type": "markdown",
      "metadata": {
        "id": "bgzORXjbuG6q"
      },
      "source": [
        "Revisamos los montos únicos."
      ]
    },
    {
      "cell_type": "code",
      "metadata": {
        "id": "JTaU9QVJio4O",
        "colab": {
          "base_uri": "https://localhost:8080/"
        },
        "outputId": "4feda249-b57f-41dc-d122-ff7dd69adba6"
      },
      "source": [
        "np.sort(df['monto'].unique())"
      ],
      "execution_count": null,
      "outputs": [
        {
          "output_type": "execute_result",
          "data": {
            "text/plain": [
              "array([   45. ,    50. ,    75. ,    90. ,   100. ,   115. ,   125. ,\n",
              "         150. ,   175. ,   180. ,   200. ,   225. ,   240. ,   250. ,\n",
              "         275. ,   290. ,   300. ,   315. ,   325. ,   337.5,   350. ,\n",
              "         360. ,   375. ,   400. ,   405. ,   425. ,   440. ,   450. ,\n",
              "         475. ,   500. ,   525. ,   540. ,   550. ,   575. ,   600. ,\n",
              "         625. ,   650. ,   675. ,   700. ,   720. ,   725. ,   750. ,\n",
              "         760. ,   775. ,   800. ,   825. ,   850. ,   855. ,   875. ,\n",
              "         900. ,   925. ,   950. ,   975. ,  1000. ,  1025. ,  1050. ,\n",
              "        1075. ,  1100. ,  1125. ,  1145. ,  1150. ,  1175. ,  1190. ,\n",
              "        1200. ,  1215. ,  1225. ,  1250. ,  1275. ,  1300. ,  1305. ,\n",
              "        1325. ,  1350. ,  1375. ,  1400. ,  1425. ,  1450. ,  1475. ,\n",
              "        1500. ,  1525. ,  1550. ,  1575. ,  1600. ,  1620. ,  1625. ,\n",
              "        1650. ,  1675. ,  1700. ,  1725. ,  1750. ,  1775. ,  1800. ,\n",
              "        1825. ,  1850. ,  1875. ,  1890. ,  1900. ,  1910. ,  1925. ,\n",
              "        1950. ,  1975. ,  2000. ,  2025. ,  2050. ,  2075. ,  2100. ,\n",
              "        2125. ,  2150. ,  2175. ,  2200. ,  2225. ,  2250. ,  2275. ,\n",
              "        2300. ,  2325. ,  2350. ,  2375. ,  2400. ,  2425. ,  2450. ,\n",
              "        2475. ,  2500. ,  2525. ,  2550. ,  2575. ,  2600. ,  2625. ,\n",
              "        2650. ,  2700. ,  2725. ,  2750. ,  2800. ,  2825. ,  2850. ,\n",
              "        2880. ,  2900. ,  2925. ,  2950. ,  2975. ,  3000. ,  3025. ,\n",
              "        3050. ,  3100. ,  3150. ,  3175. ,  3200. ,  3250. ,  3300. ,\n",
              "        3350. ,  3400. ,  3425. ,  3435. ,  3442.5,  3450. ,  3500. ,\n",
              "        3550. ,  3600. ,  3625. ,  3700. ,  3750. ,  3775. ,  3800. ,\n",
              "        3925. ,  3950. ,  3975. ,  4000. ,  4050. ,  4075. ,  4125. ,\n",
              "        4200. ,  4250. ,  4300. ,  4325. ,  4375. ,  4400. ,  4450. ,\n",
              "        4495. ,  4500. ,  4550. ,  4575. ,  4600. ,  4750. ,  4800. ,\n",
              "        4900. ,  5000. ,  5025. ,  5050. ,  5120. ,  5150. ,  5250. ,\n",
              "        5350. ,  5422.5,  5450. ,  5500. ,  5550. ,  5600. ,  5700. ,\n",
              "        5750. ,  5800. ,  5875. ,  5900. ,  6000. ,  6075. ,  6200. ,\n",
              "        6225. ,  6425. ,  6450. ,  6475. ,  6800. ,  6925. ,  6950. ,\n",
              "        7100. ,  7650. ,  7850. ,  8145. ,  8250. ,  8300. ,  9150. ,\n",
              "       10200. , 10300. , 10875. , 11700. , 13200. , 18125. ])"
            ]
          },
          "metadata": {
            "tags": []
          },
          "execution_count": 113
        }
      ]
    },
    {
      "cell_type": "code",
      "metadata": {
        "id": "Tj5I9H4KtpUG",
        "colab": {
          "base_uri": "https://localhost:8080/"
        },
        "outputId": "5be6e6f9-023e-4d18-821b-79fc0904283c"
      },
      "source": [
        "print('El mínimo monto es {}'.format(min(df['monto'])))\n",
        "print('El máximo monto es {}'.format(max(df['monto'])))"
      ],
      "execution_count": null,
      "outputs": [
        {
          "output_type": "stream",
          "text": [
            "El mínimo monto es 45.0\n",
            "El máximo monto es 18125.0\n"
          ],
          "name": "stdout"
        }
      ]
    },
    {
      "cell_type": "markdown",
      "metadata": {
        "id": "JUTdxWRH2228"
      },
      "source": [
        "No hay ningún valor negativo, tampoco hay monto 0. Concluimos que no hay inconsistencias en esta variable."
      ]
    },
    {
      "cell_type": "markdown",
      "metadata": {
        "id": "TUx5X1D_jhTw"
      },
      "source": [
        "####Variable `descuento`"
      ]
    },
    {
      "cell_type": "markdown",
      "metadata": {
        "id": "C8XUQYk8w-La"
      },
      "source": [
        "Revisamos los descuentos únicos."
      ]
    },
    {
      "cell_type": "code",
      "metadata": {
        "id": "Ce7on_29w9Qc",
        "colab": {
          "base_uri": "https://localhost:8080/"
        },
        "outputId": "77b9575a-8706-4aa3-8ebb-5035ab36741f"
      },
      "source": [
        "np.sort(df['descuento'].unique())"
      ],
      "execution_count": null,
      "outputs": [
        {
          "output_type": "execute_result",
          "data": {
            "text/plain": [
              "array([   0. ,    5. ,   10. ,   20. ,   25. ,   35. ,   37.5,   40. ,\n",
              "         45. ,   50. ,   60. ,   75. ,   80. ,   95. ,  100. ,  125. ,\n",
              "        130. ,  135. ,  145. ,  150. ,  175. ,  180. ,  200. ,  210. ,\n",
              "        225. ,  240. ,  250. ,  275. ,  300. ,  320. ,  340. ,  350. ,\n",
              "        400. ,  405. ,  450. ,  465. ,  500. ,  602.5,  607.5,  650. ,\n",
              "        700. ,  800. ,  905. , 1000. , 1200. , 1400. , 1700. ])"
            ]
          },
          "metadata": {
            "tags": []
          },
          "execution_count": 115
        }
      ]
    },
    {
      "cell_type": "code",
      "metadata": {
        "id": "HEc0WdvcjhTx",
        "colab": {
          "base_uri": "https://localhost:8080/"
        },
        "outputId": "2e15ecda-7648-4e89-860c-eeb4f5da41f6"
      },
      "source": [
        "print('El mínimo monto es {}'.format(min(df['descuento'])))\n",
        "print('El máximo monto es {}'.format(max(df['descuento'])))"
      ],
      "execution_count": null,
      "outputs": [
        {
          "output_type": "stream",
          "text": [
            "El mínimo monto es 0.0\n",
            "El máximo monto es 1700.0\n"
          ],
          "name": "stdout"
        }
      ]
    },
    {
      "cell_type": "markdown",
      "metadata": {
        "id": "8Ac5cY1x4Yeo"
      },
      "source": [
        "No hay ningún valor negativo. Concluimos que no hay inconsistencias en esta variable."
      ]
    },
    {
      "cell_type": "markdown",
      "metadata": {
        "id": "zkQJh-Bu7mUb"
      },
      "source": [
        "####Adicionales"
      ]
    },
    {
      "cell_type": "markdown",
      "metadata": {
        "id": "p76TClaU97DB"
      },
      "source": [
        "Revisamos si hay compras donde el descuento sea mayor al monto."
      ]
    },
    {
      "cell_type": "code",
      "metadata": {
        "id": "g7Jde0k97p42",
        "colab": {
          "base_uri": "https://localhost:8080/",
          "height": 142
        },
        "outputId": "47a18b10-f9dc-4d66-c7dc-5248cce0c514"
      },
      "source": [
        "df[df['descuento'] > df['monto']]"
      ],
      "execution_count": null,
      "outputs": [
        {
          "output_type": "execute_result",
          "data": {
            "text/html": [
              "<div>\n",
              "<style scoped>\n",
              "    .dataframe tbody tr th:only-of-type {\n",
              "        vertical-align: middle;\n",
              "    }\n",
              "\n",
              "    .dataframe tbody tr th {\n",
              "        vertical-align: top;\n",
              "    }\n",
              "\n",
              "    .dataframe thead th {\n",
              "        text-align: right;\n",
              "    }\n",
              "</style>\n",
              "<table border=\"1\" class=\"dataframe\">\n",
              "  <thead>\n",
              "    <tr style=\"text-align: right;\">\n",
              "      <th></th>\n",
              "      <th>cliente</th>\n",
              "      <th>fecNacimiento</th>\n",
              "      <th>sexo</th>\n",
              "      <th>fecha</th>\n",
              "      <th>monto</th>\n",
              "      <th>descuento</th>\n",
              "    </tr>\n",
              "  </thead>\n",
              "  <tbody>\n",
              "    <tr>\n",
              "      <th>86</th>\n",
              "      <td>SID7</td>\n",
              "      <td>1950-01-12</td>\n",
              "      <td>Femenino</td>\n",
              "      <td>2020-07-10 16:53:28</td>\n",
              "      <td>1000.0</td>\n",
              "      <td>1200.0</td>\n",
              "    </tr>\n",
              "    <tr>\n",
              "      <th>1042</th>\n",
              "      <td>SID23</td>\n",
              "      <td>2001-08-06</td>\n",
              "      <td>Femenino</td>\n",
              "      <td>2020-08-27 10:44:32</td>\n",
              "      <td>700.0</td>\n",
              "      <td>800.0</td>\n",
              "    </tr>\n",
              "    <tr>\n",
              "      <th>1931</th>\n",
              "      <td>SID259</td>\n",
              "      <td>NaN</td>\n",
              "      <td>Femenino</td>\n",
              "      <td>2020-11-21 07:58:57</td>\n",
              "      <td>250.0</td>\n",
              "      <td>300.0</td>\n",
              "    </tr>\n",
              "  </tbody>\n",
              "</table>\n",
              "</div>"
            ],
            "text/plain": [
              "     cliente fecNacimiento      sexo               fecha   monto  descuento\n",
              "86      SID7    1950-01-12  Femenino 2020-07-10 16:53:28  1000.0     1200.0\n",
              "1042   SID23    2001-08-06  Femenino 2020-08-27 10:44:32   700.0      800.0\n",
              "1931  SID259           NaN  Femenino 2020-11-21 07:58:57   250.0      300.0"
            ]
          },
          "metadata": {
            "tags": []
          },
          "execution_count": 117
        }
      ]
    },
    {
      "cell_type": "markdown",
      "metadata": {
        "id": "ePAQpGfjATGm"
      },
      "source": [
        "Notamos que hay 3 registros donde el descuento es mayor al monto de compra, dando como resultado que el monto final sea negativo."
      ]
    },
    {
      "cell_type": "code",
      "metadata": {
        "id": "_Ess2HMnGTul"
      },
      "source": [
        "#df.to_csv('salida.csv')"
      ],
      "execution_count": null,
      "outputs": []
    },
    {
      "cell_type": "code",
      "metadata": {
        "id": "QP3qcDz1GT4m"
      },
      "source": [
        "df[[\"h\",\"m\",\"s\"]] = pd.DataFrame([(x.hour, x.minute, x.second) for x in df[\"fecha\"]])"
      ],
      "execution_count": null,
      "outputs": []
    },
    {
      "cell_type": "code",
      "metadata": {
        "colab": {
          "base_uri": "https://localhost:8080/",
          "height": 204
        },
        "id": "_LY7Cl9enDAQ",
        "outputId": "cdf2a2cc-b86f-45cb-ffdd-8ee7f4f813b9"
      },
      "source": [
        "df.head()"
      ],
      "execution_count": null,
      "outputs": [
        {
          "output_type": "execute_result",
          "data": {
            "text/html": [
              "<div>\n",
              "<style scoped>\n",
              "    .dataframe tbody tr th:only-of-type {\n",
              "        vertical-align: middle;\n",
              "    }\n",
              "\n",
              "    .dataframe tbody tr th {\n",
              "        vertical-align: top;\n",
              "    }\n",
              "\n",
              "    .dataframe thead th {\n",
              "        text-align: right;\n",
              "    }\n",
              "</style>\n",
              "<table border=\"1\" class=\"dataframe\">\n",
              "  <thead>\n",
              "    <tr style=\"text-align: right;\">\n",
              "      <th></th>\n",
              "      <th>cliente</th>\n",
              "      <th>fecNacimiento</th>\n",
              "      <th>sexo</th>\n",
              "      <th>fecha</th>\n",
              "      <th>monto</th>\n",
              "      <th>descuento</th>\n",
              "      <th>h</th>\n",
              "      <th>m</th>\n",
              "      <th>s</th>\n",
              "    </tr>\n",
              "  </thead>\n",
              "  <tbody>\n",
              "    <tr>\n",
              "      <th>0</th>\n",
              "      <td>SID1</td>\n",
              "      <td>NaN</td>\n",
              "      <td>NaN</td>\n",
              "      <td>2020-07-08 08:50:34</td>\n",
              "      <td>250.0</td>\n",
              "      <td>0.0</td>\n",
              "      <td>8</td>\n",
              "      <td>50</td>\n",
              "      <td>34</td>\n",
              "    </tr>\n",
              "    <tr>\n",
              "      <th>1</th>\n",
              "      <td>SID1</td>\n",
              "      <td>NaN</td>\n",
              "      <td>NaN</td>\n",
              "      <td>2020-07-08 08:51:21</td>\n",
              "      <td>100.0</td>\n",
              "      <td>0.0</td>\n",
              "      <td>8</td>\n",
              "      <td>51</td>\n",
              "      <td>21</td>\n",
              "    </tr>\n",
              "    <tr>\n",
              "      <th>2</th>\n",
              "      <td>SID1</td>\n",
              "      <td>NaN</td>\n",
              "      <td>NaN</td>\n",
              "      <td>2020-07-08 08:52:18</td>\n",
              "      <td>100.0</td>\n",
              "      <td>0.0</td>\n",
              "      <td>8</td>\n",
              "      <td>52</td>\n",
              "      <td>18</td>\n",
              "    </tr>\n",
              "    <tr>\n",
              "      <th>3</th>\n",
              "      <td>SID1</td>\n",
              "      <td>NaN</td>\n",
              "      <td>NaN</td>\n",
              "      <td>2020-07-08 08:52:37</td>\n",
              "      <td>75.0</td>\n",
              "      <td>0.0</td>\n",
              "      <td>8</td>\n",
              "      <td>52</td>\n",
              "      <td>37</td>\n",
              "    </tr>\n",
              "    <tr>\n",
              "      <th>4</th>\n",
              "      <td>SID1</td>\n",
              "      <td>NaN</td>\n",
              "      <td>NaN</td>\n",
              "      <td>2020-07-08 08:52:59</td>\n",
              "      <td>350.0</td>\n",
              "      <td>0.0</td>\n",
              "      <td>8</td>\n",
              "      <td>52</td>\n",
              "      <td>59</td>\n",
              "    </tr>\n",
              "  </tbody>\n",
              "</table>\n",
              "</div>"
            ],
            "text/plain": [
              "  cliente fecNacimiento sexo               fecha  monto  descuento  h   m   s\n",
              "0    SID1           NaN  NaN 2020-07-08 08:50:34  250.0        0.0  8  50  34\n",
              "1    SID1           NaN  NaN 2020-07-08 08:51:21  100.0        0.0  8  51  21\n",
              "2    SID1           NaN  NaN 2020-07-08 08:52:18  100.0        0.0  8  52  18\n",
              "3    SID1           NaN  NaN 2020-07-08 08:52:37   75.0        0.0  8  52  37\n",
              "4    SID1           NaN  NaN 2020-07-08 08:52:59  350.0        0.0  8  52  59"
            ]
          },
          "metadata": {
            "tags": []
          },
          "execution_count": 120
        }
      ]
    },
    {
      "cell_type": "code",
      "metadata": {
        "colab": {
          "base_uri": "https://localhost:8080/",
          "height": 390
        },
        "id": "aXF--cF9nDeD",
        "outputId": "9c0642d3-da68-435f-f2b7-7c124e640e30"
      },
      "source": [
        "df[df['h']>18]"
      ],
      "execution_count": null,
      "outputs": [
        {
          "output_type": "execute_result",
          "data": {
            "text/html": [
              "<div>\n",
              "<style scoped>\n",
              "    .dataframe tbody tr th:only-of-type {\n",
              "        vertical-align: middle;\n",
              "    }\n",
              "\n",
              "    .dataframe tbody tr th {\n",
              "        vertical-align: top;\n",
              "    }\n",
              "\n",
              "    .dataframe thead th {\n",
              "        text-align: right;\n",
              "    }\n",
              "</style>\n",
              "<table border=\"1\" class=\"dataframe\">\n",
              "  <thead>\n",
              "    <tr style=\"text-align: right;\">\n",
              "      <th></th>\n",
              "      <th>cliente</th>\n",
              "      <th>fecNacimiento</th>\n",
              "      <th>sexo</th>\n",
              "      <th>fecha</th>\n",
              "      <th>monto</th>\n",
              "      <th>descuento</th>\n",
              "      <th>h</th>\n",
              "      <th>m</th>\n",
              "      <th>s</th>\n",
              "    </tr>\n",
              "  </thead>\n",
              "  <tbody>\n",
              "    <tr>\n",
              "      <th>105</th>\n",
              "      <td>SID1</td>\n",
              "      <td>NaN</td>\n",
              "      <td>NaN</td>\n",
              "      <td>2020-07-11 19:02:46</td>\n",
              "      <td>525.0</td>\n",
              "      <td>0.0</td>\n",
              "      <td>19</td>\n",
              "      <td>2</td>\n",
              "      <td>46</td>\n",
              "    </tr>\n",
              "    <tr>\n",
              "      <th>106</th>\n",
              "      <td>SID1</td>\n",
              "      <td>NaN</td>\n",
              "      <td>NaN</td>\n",
              "      <td>2020-07-11 19:04:02</td>\n",
              "      <td>3100.0</td>\n",
              "      <td>0.0</td>\n",
              "      <td>19</td>\n",
              "      <td>4</td>\n",
              "      <td>2</td>\n",
              "    </tr>\n",
              "    <tr>\n",
              "      <th>107</th>\n",
              "      <td>SID6</td>\n",
              "      <td>1983-08-22</td>\n",
              "      <td>Femenino</td>\n",
              "      <td>2020-07-11 19:06:00</td>\n",
              "      <td>2650.0</td>\n",
              "      <td>700.0</td>\n",
              "      <td>19</td>\n",
              "      <td>6</td>\n",
              "      <td>0</td>\n",
              "    </tr>\n",
              "    <tr>\n",
              "      <th>108</th>\n",
              "      <td>SID1</td>\n",
              "      <td>NaN</td>\n",
              "      <td>NaN</td>\n",
              "      <td>2020-07-11 20:17:40</td>\n",
              "      <td>400.0</td>\n",
              "      <td>0.0</td>\n",
              "      <td>20</td>\n",
              "      <td>17</td>\n",
              "      <td>40</td>\n",
              "    </tr>\n",
              "    <tr>\n",
              "      <th>693</th>\n",
              "      <td>SID1</td>\n",
              "      <td>NaN</td>\n",
              "      <td>NaN</td>\n",
              "      <td>2020-08-08 19:00:40</td>\n",
              "      <td>1450.0</td>\n",
              "      <td>0.0</td>\n",
              "      <td>19</td>\n",
              "      <td>0</td>\n",
              "      <td>40</td>\n",
              "    </tr>\n",
              "    <tr>\n",
              "      <th>694</th>\n",
              "      <td>SID1</td>\n",
              "      <td>NaN</td>\n",
              "      <td>NaN</td>\n",
              "      <td>2020-08-08 19:02:16</td>\n",
              "      <td>2950.0</td>\n",
              "      <td>0.0</td>\n",
              "      <td>19</td>\n",
              "      <td>2</td>\n",
              "      <td>16</td>\n",
              "    </tr>\n",
              "    <tr>\n",
              "      <th>695</th>\n",
              "      <td>SID1</td>\n",
              "      <td>NaN</td>\n",
              "      <td>NaN</td>\n",
              "      <td>2020-08-08 19:02:55</td>\n",
              "      <td>725.0</td>\n",
              "      <td>0.0</td>\n",
              "      <td>19</td>\n",
              "      <td>2</td>\n",
              "      <td>55</td>\n",
              "    </tr>\n",
              "    <tr>\n",
              "      <th>696</th>\n",
              "      <td>SID1</td>\n",
              "      <td>NaN</td>\n",
              "      <td>NaN</td>\n",
              "      <td>2020-08-08 19:03:39</td>\n",
              "      <td>1300.0</td>\n",
              "      <td>0.0</td>\n",
              "      <td>19</td>\n",
              "      <td>3</td>\n",
              "      <td>39</td>\n",
              "    </tr>\n",
              "    <tr>\n",
              "      <th>697</th>\n",
              "      <td>SID13</td>\n",
              "      <td>1974-06-24</td>\n",
              "      <td>Femenino</td>\n",
              "      <td>2020-08-08 19:04:25</td>\n",
              "      <td>675.0</td>\n",
              "      <td>25.0</td>\n",
              "      <td>19</td>\n",
              "      <td>4</td>\n",
              "      <td>25</td>\n",
              "    </tr>\n",
              "    <tr>\n",
              "      <th>698</th>\n",
              "      <td>SID1</td>\n",
              "      <td>NaN</td>\n",
              "      <td>NaN</td>\n",
              "      <td>2020-08-08 19:05:15</td>\n",
              "      <td>575.0</td>\n",
              "      <td>0.0</td>\n",
              "      <td>19</td>\n",
              "      <td>5</td>\n",
              "      <td>15</td>\n",
              "    </tr>\n",
              "    <tr>\n",
              "      <th>3285</th>\n",
              "      <td>SID265</td>\n",
              "      <td>1993-12-02</td>\n",
              "      <td>Femenino</td>\n",
              "      <td>2021-02-07 20:34:51</td>\n",
              "      <td>1305.0</td>\n",
              "      <td>145.0</td>\n",
              "      <td>20</td>\n",
              "      <td>34</td>\n",
              "      <td>51</td>\n",
              "    </tr>\n",
              "  </tbody>\n",
              "</table>\n",
              "</div>"
            ],
            "text/plain": [
              "     cliente fecNacimiento      sexo               fecha  ...  descuento   h   m   s\n",
              "105     SID1           NaN       NaN 2020-07-11 19:02:46  ...        0.0  19   2  46\n",
              "106     SID1           NaN       NaN 2020-07-11 19:04:02  ...        0.0  19   4   2\n",
              "107     SID6    1983-08-22  Femenino 2020-07-11 19:06:00  ...      700.0  19   6   0\n",
              "108     SID1           NaN       NaN 2020-07-11 20:17:40  ...        0.0  20  17  40\n",
              "693     SID1           NaN       NaN 2020-08-08 19:00:40  ...        0.0  19   0  40\n",
              "694     SID1           NaN       NaN 2020-08-08 19:02:16  ...        0.0  19   2  16\n",
              "695     SID1           NaN       NaN 2020-08-08 19:02:55  ...        0.0  19   2  55\n",
              "696     SID1           NaN       NaN 2020-08-08 19:03:39  ...        0.0  19   3  39\n",
              "697    SID13    1974-06-24  Femenino 2020-08-08 19:04:25  ...       25.0  19   4  25\n",
              "698     SID1           NaN       NaN 2020-08-08 19:05:15  ...        0.0  19   5  15\n",
              "3285  SID265    1993-12-02  Femenino 2021-02-07 20:34:51  ...      145.0  20  34  51\n",
              "\n",
              "[11 rows x 9 columns]"
            ]
          },
          "metadata": {
            "tags": []
          },
          "execution_count": 121
        }
      ]
    },
    {
      "cell_type": "code",
      "metadata": {
        "colab": {
          "base_uri": "https://localhost:8080/"
        },
        "id": "sor0hzRdoidA",
        "outputId": "621045a8-7ba4-4cbb-dc73-bced139c7301"
      },
      "source": [
        "len(df[df['h']>18])"
      ],
      "execution_count": null,
      "outputs": [
        {
          "output_type": "execute_result",
          "data": {
            "text/plain": [
              "11"
            ]
          },
          "metadata": {
            "tags": []
          },
          "execution_count": 122
        }
      ]
    },
    {
      "cell_type": "code",
      "metadata": {
        "colab": {
          "base_uri": "https://localhost:8080/",
          "height": 1000
        },
        "id": "pwql5KBmnMOy",
        "outputId": "4cb4cba9-dbd7-4ee6-d082-443ee4ce9022"
      },
      "source": [
        "df[df['h']<8]"
      ],
      "execution_count": null,
      "outputs": [
        {
          "output_type": "execute_result",
          "data": {
            "text/html": [
              "<div>\n",
              "<style scoped>\n",
              "    .dataframe tbody tr th:only-of-type {\n",
              "        vertical-align: middle;\n",
              "    }\n",
              "\n",
              "    .dataframe tbody tr th {\n",
              "        vertical-align: top;\n",
              "    }\n",
              "\n",
              "    .dataframe thead th {\n",
              "        text-align: right;\n",
              "    }\n",
              "</style>\n",
              "<table border=\"1\" class=\"dataframe\">\n",
              "  <thead>\n",
              "    <tr style=\"text-align: right;\">\n",
              "      <th></th>\n",
              "      <th>cliente</th>\n",
              "      <th>fecNacimiento</th>\n",
              "      <th>sexo</th>\n",
              "      <th>fecha</th>\n",
              "      <th>monto</th>\n",
              "      <th>descuento</th>\n",
              "      <th>h</th>\n",
              "      <th>m</th>\n",
              "      <th>s</th>\n",
              "    </tr>\n",
              "  </thead>\n",
              "  <tbody>\n",
              "    <tr>\n",
              "      <th>1627</th>\n",
              "      <td>SID1</td>\n",
              "      <td>NaN</td>\n",
              "      <td>NaN</td>\n",
              "      <td>2020-10-27 07:13:12</td>\n",
              "      <td>1025.0</td>\n",
              "      <td>0.0</td>\n",
              "      <td>7</td>\n",
              "      <td>13</td>\n",
              "      <td>12</td>\n",
              "    </tr>\n",
              "    <tr>\n",
              "      <th>1628</th>\n",
              "      <td>SID1</td>\n",
              "      <td>NaN</td>\n",
              "      <td>NaN</td>\n",
              "      <td>2020-10-27 07:13:23</td>\n",
              "      <td>350.0</td>\n",
              "      <td>0.0</td>\n",
              "      <td>7</td>\n",
              "      <td>13</td>\n",
              "      <td>23</td>\n",
              "    </tr>\n",
              "    <tr>\n",
              "      <th>1629</th>\n",
              "      <td>SID1</td>\n",
              "      <td>NaN</td>\n",
              "      <td>NaN</td>\n",
              "      <td>2020-10-27 07:13:45</td>\n",
              "      <td>375.0</td>\n",
              "      <td>0.0</td>\n",
              "      <td>7</td>\n",
              "      <td>13</td>\n",
              "      <td>45</td>\n",
              "    </tr>\n",
              "    <tr>\n",
              "      <th>1630</th>\n",
              "      <td>SID2</td>\n",
              "      <td>1972-01-15</td>\n",
              "      <td>Femenino</td>\n",
              "      <td>2020-10-27 07:14:33</td>\n",
              "      <td>750.0</td>\n",
              "      <td>25.0</td>\n",
              "      <td>7</td>\n",
              "      <td>14</td>\n",
              "      <td>33</td>\n",
              "    </tr>\n",
              "    <tr>\n",
              "      <th>1631</th>\n",
              "      <td>SID1</td>\n",
              "      <td>NaN</td>\n",
              "      <td>NaN</td>\n",
              "      <td>2020-10-27 07:14:57</td>\n",
              "      <td>350.0</td>\n",
              "      <td>0.0</td>\n",
              "      <td>7</td>\n",
              "      <td>14</td>\n",
              "      <td>57</td>\n",
              "    </tr>\n",
              "    <tr>\n",
              "      <th>1632</th>\n",
              "      <td>SID1</td>\n",
              "      <td>NaN</td>\n",
              "      <td>NaN</td>\n",
              "      <td>2020-10-27 07:15:18</td>\n",
              "      <td>650.0</td>\n",
              "      <td>0.0</td>\n",
              "      <td>7</td>\n",
              "      <td>15</td>\n",
              "      <td>18</td>\n",
              "    </tr>\n",
              "    <tr>\n",
              "      <th>1633</th>\n",
              "      <td>SID1</td>\n",
              "      <td>NaN</td>\n",
              "      <td>NaN</td>\n",
              "      <td>2020-10-27 07:15:28</td>\n",
              "      <td>175.0</td>\n",
              "      <td>0.0</td>\n",
              "      <td>7</td>\n",
              "      <td>15</td>\n",
              "      <td>28</td>\n",
              "    </tr>\n",
              "    <tr>\n",
              "      <th>1634</th>\n",
              "      <td>SID1</td>\n",
              "      <td>NaN</td>\n",
              "      <td>NaN</td>\n",
              "      <td>2020-10-27 07:53:22</td>\n",
              "      <td>150.0</td>\n",
              "      <td>0.0</td>\n",
              "      <td>7</td>\n",
              "      <td>53</td>\n",
              "      <td>22</td>\n",
              "    </tr>\n",
              "    <tr>\n",
              "      <th>1645</th>\n",
              "      <td>SID1</td>\n",
              "      <td>NaN</td>\n",
              "      <td>NaN</td>\n",
              "      <td>2020-10-28 07:39:02</td>\n",
              "      <td>350.0</td>\n",
              "      <td>0.0</td>\n",
              "      <td>7</td>\n",
              "      <td>39</td>\n",
              "      <td>2</td>\n",
              "    </tr>\n",
              "    <tr>\n",
              "      <th>1646</th>\n",
              "      <td>SID1</td>\n",
              "      <td>NaN</td>\n",
              "      <td>NaN</td>\n",
              "      <td>2020-10-28 07:39:23</td>\n",
              "      <td>300.0</td>\n",
              "      <td>0.0</td>\n",
              "      <td>7</td>\n",
              "      <td>39</td>\n",
              "      <td>23</td>\n",
              "    </tr>\n",
              "    <tr>\n",
              "      <th>1647</th>\n",
              "      <td>SID1</td>\n",
              "      <td>NaN</td>\n",
              "      <td>NaN</td>\n",
              "      <td>2020-10-28 07:40:03</td>\n",
              "      <td>250.0</td>\n",
              "      <td>0.0</td>\n",
              "      <td>7</td>\n",
              "      <td>40</td>\n",
              "      <td>3</td>\n",
              "    </tr>\n",
              "    <tr>\n",
              "      <th>1648</th>\n",
              "      <td>SID1</td>\n",
              "      <td>NaN</td>\n",
              "      <td>NaN</td>\n",
              "      <td>2020-10-28 07:40:28</td>\n",
              "      <td>325.0</td>\n",
              "      <td>0.0</td>\n",
              "      <td>7</td>\n",
              "      <td>40</td>\n",
              "      <td>28</td>\n",
              "    </tr>\n",
              "    <tr>\n",
              "      <th>1770</th>\n",
              "      <td>SID1</td>\n",
              "      <td>NaN</td>\n",
              "      <td>NaN</td>\n",
              "      <td>2020-11-10 07:50:39</td>\n",
              "      <td>800.0</td>\n",
              "      <td>0.0</td>\n",
              "      <td>7</td>\n",
              "      <td>50</td>\n",
              "      <td>39</td>\n",
              "    </tr>\n",
              "    <tr>\n",
              "      <th>1771</th>\n",
              "      <td>SID1</td>\n",
              "      <td>NaN</td>\n",
              "      <td>NaN</td>\n",
              "      <td>2020-11-10 07:53:07</td>\n",
              "      <td>800.0</td>\n",
              "      <td>0.0</td>\n",
              "      <td>7</td>\n",
              "      <td>53</td>\n",
              "      <td>7</td>\n",
              "    </tr>\n",
              "    <tr>\n",
              "      <th>1772</th>\n",
              "      <td>SID113</td>\n",
              "      <td>1990-12-17</td>\n",
              "      <td>Femenino</td>\n",
              "      <td>2020-11-10 07:53:41</td>\n",
              "      <td>500.0</td>\n",
              "      <td>25.0</td>\n",
              "      <td>7</td>\n",
              "      <td>53</td>\n",
              "      <td>41</td>\n",
              "    </tr>\n",
              "    <tr>\n",
              "      <th>1792</th>\n",
              "      <td>SID1</td>\n",
              "      <td>NaN</td>\n",
              "      <td>NaN</td>\n",
              "      <td>2020-11-11 07:38:29</td>\n",
              "      <td>125.0</td>\n",
              "      <td>0.0</td>\n",
              "      <td>7</td>\n",
              "      <td>38</td>\n",
              "      <td>29</td>\n",
              "    </tr>\n",
              "    <tr>\n",
              "      <th>1793</th>\n",
              "      <td>SID1</td>\n",
              "      <td>NaN</td>\n",
              "      <td>NaN</td>\n",
              "      <td>2020-11-11 07:38:53</td>\n",
              "      <td>1100.0</td>\n",
              "      <td>0.0</td>\n",
              "      <td>7</td>\n",
              "      <td>38</td>\n",
              "      <td>53</td>\n",
              "    </tr>\n",
              "    <tr>\n",
              "      <th>1794</th>\n",
              "      <td>SID1</td>\n",
              "      <td>NaN</td>\n",
              "      <td>NaN</td>\n",
              "      <td>2020-11-11 07:39:17</td>\n",
              "      <td>2000.0</td>\n",
              "      <td>0.0</td>\n",
              "      <td>7</td>\n",
              "      <td>39</td>\n",
              "      <td>17</td>\n",
              "    </tr>\n",
              "    <tr>\n",
              "      <th>1812</th>\n",
              "      <td>SID1</td>\n",
              "      <td>NaN</td>\n",
              "      <td>NaN</td>\n",
              "      <td>2020-11-12 07:04:46</td>\n",
              "      <td>100.0</td>\n",
              "      <td>0.0</td>\n",
              "      <td>7</td>\n",
              "      <td>4</td>\n",
              "      <td>46</td>\n",
              "    </tr>\n",
              "    <tr>\n",
              "      <th>1813</th>\n",
              "      <td>SID247</td>\n",
              "      <td>NaN</td>\n",
              "      <td>Femenino</td>\n",
              "      <td>2020-11-12 07:07:30</td>\n",
              "      <td>1475.0</td>\n",
              "      <td>25.0</td>\n",
              "      <td>7</td>\n",
              "      <td>7</td>\n",
              "      <td>30</td>\n",
              "    </tr>\n",
              "    <tr>\n",
              "      <th>1814</th>\n",
              "      <td>SID1</td>\n",
              "      <td>NaN</td>\n",
              "      <td>NaN</td>\n",
              "      <td>2020-11-12 07:08:01</td>\n",
              "      <td>400.0</td>\n",
              "      <td>0.0</td>\n",
              "      <td>7</td>\n",
              "      <td>8</td>\n",
              "      <td>1</td>\n",
              "    </tr>\n",
              "    <tr>\n",
              "      <th>1815</th>\n",
              "      <td>SID197</td>\n",
              "      <td>NaN</td>\n",
              "      <td>Femenino</td>\n",
              "      <td>2020-11-12 07:08:32</td>\n",
              "      <td>500.0</td>\n",
              "      <td>25.0</td>\n",
              "      <td>7</td>\n",
              "      <td>8</td>\n",
              "      <td>32</td>\n",
              "    </tr>\n",
              "    <tr>\n",
              "      <th>1816</th>\n",
              "      <td>SID1</td>\n",
              "      <td>NaN</td>\n",
              "      <td>NaN</td>\n",
              "      <td>2020-11-12 07:09:24</td>\n",
              "      <td>525.0</td>\n",
              "      <td>0.0</td>\n",
              "      <td>7</td>\n",
              "      <td>9</td>\n",
              "      <td>24</td>\n",
              "    </tr>\n",
              "    <tr>\n",
              "      <th>1817</th>\n",
              "      <td>SID1</td>\n",
              "      <td>NaN</td>\n",
              "      <td>NaN</td>\n",
              "      <td>2020-11-12 07:29:01</td>\n",
              "      <td>125.0</td>\n",
              "      <td>0.0</td>\n",
              "      <td>7</td>\n",
              "      <td>29</td>\n",
              "      <td>1</td>\n",
              "    </tr>\n",
              "    <tr>\n",
              "      <th>1818</th>\n",
              "      <td>SID1</td>\n",
              "      <td>NaN</td>\n",
              "      <td>NaN</td>\n",
              "      <td>2020-11-12 07:29:21</td>\n",
              "      <td>1100.0</td>\n",
              "      <td>0.0</td>\n",
              "      <td>7</td>\n",
              "      <td>29</td>\n",
              "      <td>21</td>\n",
              "    </tr>\n",
              "    <tr>\n",
              "      <th>1833</th>\n",
              "      <td>SID1</td>\n",
              "      <td>NaN</td>\n",
              "      <td>NaN</td>\n",
              "      <td>2020-11-13 07:21:01</td>\n",
              "      <td>525.0</td>\n",
              "      <td>0.0</td>\n",
              "      <td>7</td>\n",
              "      <td>21</td>\n",
              "      <td>1</td>\n",
              "    </tr>\n",
              "    <tr>\n",
              "      <th>1834</th>\n",
              "      <td>SID1</td>\n",
              "      <td>NaN</td>\n",
              "      <td>NaN</td>\n",
              "      <td>2020-11-13 07:21:17</td>\n",
              "      <td>400.0</td>\n",
              "      <td>0.0</td>\n",
              "      <td>7</td>\n",
              "      <td>21</td>\n",
              "      <td>17</td>\n",
              "    </tr>\n",
              "    <tr>\n",
              "      <th>1842</th>\n",
              "      <td>SID250</td>\n",
              "      <td>NaN</td>\n",
              "      <td>Femenino</td>\n",
              "      <td>2020-11-14 07:17:30</td>\n",
              "      <td>950.0</td>\n",
              "      <td>0.0</td>\n",
              "      <td>7</td>\n",
              "      <td>17</td>\n",
              "      <td>30</td>\n",
              "    </tr>\n",
              "    <tr>\n",
              "      <th>1843</th>\n",
              "      <td>SID1</td>\n",
              "      <td>NaN</td>\n",
              "      <td>NaN</td>\n",
              "      <td>2020-11-14 07:18:00</td>\n",
              "      <td>175.0</td>\n",
              "      <td>0.0</td>\n",
              "      <td>7</td>\n",
              "      <td>18</td>\n",
              "      <td>0</td>\n",
              "    </tr>\n",
              "    <tr>\n",
              "      <th>1844</th>\n",
              "      <td>SID1</td>\n",
              "      <td>NaN</td>\n",
              "      <td>NaN</td>\n",
              "      <td>2020-11-14 07:22:32</td>\n",
              "      <td>400.0</td>\n",
              "      <td>0.0</td>\n",
              "      <td>7</td>\n",
              "      <td>22</td>\n",
              "      <td>32</td>\n",
              "    </tr>\n",
              "    <tr>\n",
              "      <th>1845</th>\n",
              "      <td>SID1</td>\n",
              "      <td>NaN</td>\n",
              "      <td>NaN</td>\n",
              "      <td>2020-11-14 07:23:03</td>\n",
              "      <td>375.0</td>\n",
              "      <td>0.0</td>\n",
              "      <td>7</td>\n",
              "      <td>23</td>\n",
              "      <td>3</td>\n",
              "    </tr>\n",
              "    <tr>\n",
              "      <th>1846</th>\n",
              "      <td>SID23</td>\n",
              "      <td>2001-08-06</td>\n",
              "      <td>Femenino</td>\n",
              "      <td>2020-11-14 07:23:55</td>\n",
              "      <td>1275.0</td>\n",
              "      <td>225.0</td>\n",
              "      <td>7</td>\n",
              "      <td>23</td>\n",
              "      <td>55</td>\n",
              "    </tr>\n",
              "    <tr>\n",
              "      <th>1847</th>\n",
              "      <td>SID147</td>\n",
              "      <td>NaN</td>\n",
              "      <td>Femenino</td>\n",
              "      <td>2020-11-14 07:40:52</td>\n",
              "      <td>700.0</td>\n",
              "      <td>0.0</td>\n",
              "      <td>7</td>\n",
              "      <td>40</td>\n",
              "      <td>52</td>\n",
              "    </tr>\n",
              "    <tr>\n",
              "      <th>1876</th>\n",
              "      <td>SID1</td>\n",
              "      <td>NaN</td>\n",
              "      <td>NaN</td>\n",
              "      <td>2020-11-17 07:38:08</td>\n",
              "      <td>150.0</td>\n",
              "      <td>0.0</td>\n",
              "      <td>7</td>\n",
              "      <td>38</td>\n",
              "      <td>8</td>\n",
              "    </tr>\n",
              "    <tr>\n",
              "      <th>1877</th>\n",
              "      <td>SID1</td>\n",
              "      <td>NaN</td>\n",
              "      <td>NaN</td>\n",
              "      <td>2020-11-17 07:39:07</td>\n",
              "      <td>750.0</td>\n",
              "      <td>0.0</td>\n",
              "      <td>7</td>\n",
              "      <td>39</td>\n",
              "      <td>7</td>\n",
              "    </tr>\n",
              "    <tr>\n",
              "      <th>1878</th>\n",
              "      <td>SID1</td>\n",
              "      <td>NaN</td>\n",
              "      <td>NaN</td>\n",
              "      <td>2020-11-17 07:40:17</td>\n",
              "      <td>775.0</td>\n",
              "      <td>0.0</td>\n",
              "      <td>7</td>\n",
              "      <td>40</td>\n",
              "      <td>17</td>\n",
              "    </tr>\n",
              "    <tr>\n",
              "      <th>1879</th>\n",
              "      <td>SID124</td>\n",
              "      <td>1950-03-06</td>\n",
              "      <td>Masculino</td>\n",
              "      <td>2020-11-17 07:41:19</td>\n",
              "      <td>6200.0</td>\n",
              "      <td>500.0</td>\n",
              "      <td>7</td>\n",
              "      <td>41</td>\n",
              "      <td>19</td>\n",
              "    </tr>\n",
              "    <tr>\n",
              "      <th>1888</th>\n",
              "      <td>SID1</td>\n",
              "      <td>NaN</td>\n",
              "      <td>NaN</td>\n",
              "      <td>2020-11-18 07:58:14</td>\n",
              "      <td>350.0</td>\n",
              "      <td>0.0</td>\n",
              "      <td>7</td>\n",
              "      <td>58</td>\n",
              "      <td>14</td>\n",
              "    </tr>\n",
              "    <tr>\n",
              "      <th>1912</th>\n",
              "      <td>SID1</td>\n",
              "      <td>NaN</td>\n",
              "      <td>NaN</td>\n",
              "      <td>2020-11-20 07:17:14</td>\n",
              "      <td>700.0</td>\n",
              "      <td>0.0</td>\n",
              "      <td>7</td>\n",
              "      <td>17</td>\n",
              "      <td>14</td>\n",
              "    </tr>\n",
              "    <tr>\n",
              "      <th>1913</th>\n",
              "      <td>SID1</td>\n",
              "      <td>NaN</td>\n",
              "      <td>NaN</td>\n",
              "      <td>2020-11-20 07:17:49</td>\n",
              "      <td>225.0</td>\n",
              "      <td>0.0</td>\n",
              "      <td>7</td>\n",
              "      <td>17</td>\n",
              "      <td>49</td>\n",
              "    </tr>\n",
              "    <tr>\n",
              "      <th>1914</th>\n",
              "      <td>SID1</td>\n",
              "      <td>NaN</td>\n",
              "      <td>NaN</td>\n",
              "      <td>2020-11-20 07:18:35</td>\n",
              "      <td>225.0</td>\n",
              "      <td>0.0</td>\n",
              "      <td>7</td>\n",
              "      <td>18</td>\n",
              "      <td>35</td>\n",
              "    </tr>\n",
              "    <tr>\n",
              "      <th>1915</th>\n",
              "      <td>SID1</td>\n",
              "      <td>NaN</td>\n",
              "      <td>NaN</td>\n",
              "      <td>2020-11-20 07:33:07</td>\n",
              "      <td>300.0</td>\n",
              "      <td>0.0</td>\n",
              "      <td>7</td>\n",
              "      <td>33</td>\n",
              "      <td>7</td>\n",
              "    </tr>\n",
              "    <tr>\n",
              "      <th>1916</th>\n",
              "      <td>SID1</td>\n",
              "      <td>NaN</td>\n",
              "      <td>NaN</td>\n",
              "      <td>2020-11-20 07:56:26</td>\n",
              "      <td>125.0</td>\n",
              "      <td>0.0</td>\n",
              "      <td>7</td>\n",
              "      <td>56</td>\n",
              "      <td>26</td>\n",
              "    </tr>\n",
              "    <tr>\n",
              "      <th>1927</th>\n",
              "      <td>SID1</td>\n",
              "      <td>NaN</td>\n",
              "      <td>NaN</td>\n",
              "      <td>2020-11-21 07:24:09</td>\n",
              "      <td>250.0</td>\n",
              "      <td>0.0</td>\n",
              "      <td>7</td>\n",
              "      <td>24</td>\n",
              "      <td>9</td>\n",
              "    </tr>\n",
              "    <tr>\n",
              "      <th>1928</th>\n",
              "      <td>SID1</td>\n",
              "      <td>NaN</td>\n",
              "      <td>NaN</td>\n",
              "      <td>2020-11-21 07:24:42</td>\n",
              "      <td>100.0</td>\n",
              "      <td>0.0</td>\n",
              "      <td>7</td>\n",
              "      <td>24</td>\n",
              "      <td>42</td>\n",
              "    </tr>\n",
              "    <tr>\n",
              "      <th>1929</th>\n",
              "      <td>SID1</td>\n",
              "      <td>NaN</td>\n",
              "      <td>NaN</td>\n",
              "      <td>2020-11-21 07:25:08</td>\n",
              "      <td>175.0</td>\n",
              "      <td>0.0</td>\n",
              "      <td>7</td>\n",
              "      <td>25</td>\n",
              "      <td>8</td>\n",
              "    </tr>\n",
              "    <tr>\n",
              "      <th>1930</th>\n",
              "      <td>SID143</td>\n",
              "      <td>1970-01-05</td>\n",
              "      <td>Femenino</td>\n",
              "      <td>2020-11-21 07:57:01</td>\n",
              "      <td>1500.0</td>\n",
              "      <td>75.0</td>\n",
              "      <td>7</td>\n",
              "      <td>57</td>\n",
              "      <td>1</td>\n",
              "    </tr>\n",
              "    <tr>\n",
              "      <th>1931</th>\n",
              "      <td>SID259</td>\n",
              "      <td>NaN</td>\n",
              "      <td>Femenino</td>\n",
              "      <td>2020-11-21 07:58:57</td>\n",
              "      <td>250.0</td>\n",
              "      <td>300.0</td>\n",
              "      <td>7</td>\n",
              "      <td>58</td>\n",
              "      <td>57</td>\n",
              "    </tr>\n",
              "    <tr>\n",
              "      <th>1938</th>\n",
              "      <td>SID1</td>\n",
              "      <td>NaN</td>\n",
              "      <td>NaN</td>\n",
              "      <td>2020-11-23 07:41:31</td>\n",
              "      <td>100.0</td>\n",
              "      <td>0.0</td>\n",
              "      <td>7</td>\n",
              "      <td>41</td>\n",
              "      <td>31</td>\n",
              "    </tr>\n",
              "    <tr>\n",
              "      <th>1939</th>\n",
              "      <td>SID260</td>\n",
              "      <td>NaN</td>\n",
              "      <td>Femenino</td>\n",
              "      <td>2020-11-23 07:42:41</td>\n",
              "      <td>825.0</td>\n",
              "      <td>0.0</td>\n",
              "      <td>7</td>\n",
              "      <td>42</td>\n",
              "      <td>41</td>\n",
              "    </tr>\n",
              "    <tr>\n",
              "      <th>1940</th>\n",
              "      <td>SID1</td>\n",
              "      <td>NaN</td>\n",
              "      <td>NaN</td>\n",
              "      <td>2020-11-23 07:44:02</td>\n",
              "      <td>600.0</td>\n",
              "      <td>0.0</td>\n",
              "      <td>7</td>\n",
              "      <td>44</td>\n",
              "      <td>2</td>\n",
              "    </tr>\n",
              "    <tr>\n",
              "      <th>1941</th>\n",
              "      <td>SID1</td>\n",
              "      <td>NaN</td>\n",
              "      <td>NaN</td>\n",
              "      <td>2020-11-23 07:44:35</td>\n",
              "      <td>250.0</td>\n",
              "      <td>0.0</td>\n",
              "      <td>7</td>\n",
              "      <td>44</td>\n",
              "      <td>35</td>\n",
              "    </tr>\n",
              "    <tr>\n",
              "      <th>1942</th>\n",
              "      <td>SID1</td>\n",
              "      <td>NaN</td>\n",
              "      <td>NaN</td>\n",
              "      <td>2020-11-23 07:44:53</td>\n",
              "      <td>175.0</td>\n",
              "      <td>0.0</td>\n",
              "      <td>7</td>\n",
              "      <td>44</td>\n",
              "      <td>53</td>\n",
              "    </tr>\n",
              "    <tr>\n",
              "      <th>1943</th>\n",
              "      <td>SID1</td>\n",
              "      <td>NaN</td>\n",
              "      <td>NaN</td>\n",
              "      <td>2020-11-23 07:45:09</td>\n",
              "      <td>400.0</td>\n",
              "      <td>0.0</td>\n",
              "      <td>7</td>\n",
              "      <td>45</td>\n",
              "      <td>9</td>\n",
              "    </tr>\n",
              "    <tr>\n",
              "      <th>1952</th>\n",
              "      <td>SID1</td>\n",
              "      <td>NaN</td>\n",
              "      <td>NaN</td>\n",
              "      <td>2020-11-24 07:26:23</td>\n",
              "      <td>725.0</td>\n",
              "      <td>0.0</td>\n",
              "      <td>7</td>\n",
              "      <td>26</td>\n",
              "      <td>23</td>\n",
              "    </tr>\n",
              "    <tr>\n",
              "      <th>1953</th>\n",
              "      <td>SID1</td>\n",
              "      <td>NaN</td>\n",
              "      <td>NaN</td>\n",
              "      <td>2020-11-24 07:26:40</td>\n",
              "      <td>350.0</td>\n",
              "      <td>0.0</td>\n",
              "      <td>7</td>\n",
              "      <td>26</td>\n",
              "      <td>40</td>\n",
              "    </tr>\n",
              "    <tr>\n",
              "      <th>1954</th>\n",
              "      <td>SID1</td>\n",
              "      <td>NaN</td>\n",
              "      <td>NaN</td>\n",
              "      <td>2020-11-24 07:27:29</td>\n",
              "      <td>175.0</td>\n",
              "      <td>0.0</td>\n",
              "      <td>7</td>\n",
              "      <td>27</td>\n",
              "      <td>29</td>\n",
              "    </tr>\n",
              "    <tr>\n",
              "      <th>1980</th>\n",
              "      <td>SID1</td>\n",
              "      <td>NaN</td>\n",
              "      <td>NaN</td>\n",
              "      <td>2020-11-26 07:45:19</td>\n",
              "      <td>325.0</td>\n",
              "      <td>0.0</td>\n",
              "      <td>7</td>\n",
              "      <td>45</td>\n",
              "      <td>19</td>\n",
              "    </tr>\n",
              "    <tr>\n",
              "      <th>1981</th>\n",
              "      <td>SID1</td>\n",
              "      <td>NaN</td>\n",
              "      <td>NaN</td>\n",
              "      <td>2020-11-26 07:45:40</td>\n",
              "      <td>650.0</td>\n",
              "      <td>0.0</td>\n",
              "      <td>7</td>\n",
              "      <td>45</td>\n",
              "      <td>40</td>\n",
              "    </tr>\n",
              "    <tr>\n",
              "      <th>1982</th>\n",
              "      <td>SID1</td>\n",
              "      <td>NaN</td>\n",
              "      <td>NaN</td>\n",
              "      <td>2020-11-26 07:46:19</td>\n",
              "      <td>150.0</td>\n",
              "      <td>0.0</td>\n",
              "      <td>7</td>\n",
              "      <td>46</td>\n",
              "      <td>19</td>\n",
              "    </tr>\n",
              "    <tr>\n",
              "      <th>1983</th>\n",
              "      <td>SID1</td>\n",
              "      <td>NaN</td>\n",
              "      <td>NaN</td>\n",
              "      <td>2020-11-26 07:46:38</td>\n",
              "      <td>175.0</td>\n",
              "      <td>0.0</td>\n",
              "      <td>7</td>\n",
              "      <td>46</td>\n",
              "      <td>38</td>\n",
              "    </tr>\n",
              "    <tr>\n",
              "      <th>1984</th>\n",
              "      <td>SID1</td>\n",
              "      <td>NaN</td>\n",
              "      <td>NaN</td>\n",
              "      <td>2020-11-26 07:53:54</td>\n",
              "      <td>125.0</td>\n",
              "      <td>0.0</td>\n",
              "      <td>7</td>\n",
              "      <td>53</td>\n",
              "      <td>54</td>\n",
              "    </tr>\n",
              "    <tr>\n",
              "      <th>1990</th>\n",
              "      <td>SID1</td>\n",
              "      <td>NaN</td>\n",
              "      <td>NaN</td>\n",
              "      <td>2020-11-27 07:38:30</td>\n",
              "      <td>175.0</td>\n",
              "      <td>0.0</td>\n",
              "      <td>7</td>\n",
              "      <td>38</td>\n",
              "      <td>30</td>\n",
              "    </tr>\n",
              "    <tr>\n",
              "      <th>1998</th>\n",
              "      <td>SID1</td>\n",
              "      <td>NaN</td>\n",
              "      <td>NaN</td>\n",
              "      <td>2020-11-28 07:37:33</td>\n",
              "      <td>1300.0</td>\n",
              "      <td>0.0</td>\n",
              "      <td>7</td>\n",
              "      <td>37</td>\n",
              "      <td>33</td>\n",
              "    </tr>\n",
              "    <tr>\n",
              "      <th>1999</th>\n",
              "      <td>SID1</td>\n",
              "      <td>NaN</td>\n",
              "      <td>NaN</td>\n",
              "      <td>2020-11-28 07:37:51</td>\n",
              "      <td>800.0</td>\n",
              "      <td>0.0</td>\n",
              "      <td>7</td>\n",
              "      <td>37</td>\n",
              "      <td>51</td>\n",
              "    </tr>\n",
              "    <tr>\n",
              "      <th>2000</th>\n",
              "      <td>SID1</td>\n",
              "      <td>NaN</td>\n",
              "      <td>NaN</td>\n",
              "      <td>2020-11-28 07:38:16</td>\n",
              "      <td>175.0</td>\n",
              "      <td>0.0</td>\n",
              "      <td>7</td>\n",
              "      <td>38</td>\n",
              "      <td>16</td>\n",
              "    </tr>\n",
              "    <tr>\n",
              "      <th>2001</th>\n",
              "      <td>SID1</td>\n",
              "      <td>NaN</td>\n",
              "      <td>NaN</td>\n",
              "      <td>2020-11-28 07:44:47</td>\n",
              "      <td>100.0</td>\n",
              "      <td>0.0</td>\n",
              "      <td>7</td>\n",
              "      <td>44</td>\n",
              "      <td>47</td>\n",
              "    </tr>\n",
              "    <tr>\n",
              "      <th>2002</th>\n",
              "      <td>SID1</td>\n",
              "      <td>NaN</td>\n",
              "      <td>NaN</td>\n",
              "      <td>2020-11-28 07:52:39</td>\n",
              "      <td>125.0</td>\n",
              "      <td>0.0</td>\n",
              "      <td>7</td>\n",
              "      <td>52</td>\n",
              "      <td>39</td>\n",
              "    </tr>\n",
              "    <tr>\n",
              "      <th>2030</th>\n",
              "      <td>SID1</td>\n",
              "      <td>NaN</td>\n",
              "      <td>NaN</td>\n",
              "      <td>2020-12-01 07:14:28</td>\n",
              "      <td>500.0</td>\n",
              "      <td>0.0</td>\n",
              "      <td>7</td>\n",
              "      <td>14</td>\n",
              "      <td>28</td>\n",
              "    </tr>\n",
              "    <tr>\n",
              "      <th>2031</th>\n",
              "      <td>SID1</td>\n",
              "      <td>NaN</td>\n",
              "      <td>NaN</td>\n",
              "      <td>2020-12-01 07:15:12</td>\n",
              "      <td>350.0</td>\n",
              "      <td>0.0</td>\n",
              "      <td>7</td>\n",
              "      <td>15</td>\n",
              "      <td>12</td>\n",
              "    </tr>\n",
              "    <tr>\n",
              "      <th>2032</th>\n",
              "      <td>SID178</td>\n",
              "      <td>NaN</td>\n",
              "      <td>Femenino</td>\n",
              "      <td>2020-12-01 07:16:10</td>\n",
              "      <td>500.0</td>\n",
              "      <td>25.0</td>\n",
              "      <td>7</td>\n",
              "      <td>16</td>\n",
              "      <td>10</td>\n",
              "    </tr>\n",
              "    <tr>\n",
              "      <th>2033</th>\n",
              "      <td>SID1</td>\n",
              "      <td>NaN</td>\n",
              "      <td>NaN</td>\n",
              "      <td>2020-12-01 07:16:43</td>\n",
              "      <td>175.0</td>\n",
              "      <td>0.0</td>\n",
              "      <td>7</td>\n",
              "      <td>16</td>\n",
              "      <td>43</td>\n",
              "    </tr>\n",
              "    <tr>\n",
              "      <th>2047</th>\n",
              "      <td>SID1</td>\n",
              "      <td>NaN</td>\n",
              "      <td>NaN</td>\n",
              "      <td>2020-12-03 06:58:47</td>\n",
              "      <td>375.0</td>\n",
              "      <td>0.0</td>\n",
              "      <td>6</td>\n",
              "      <td>58</td>\n",
              "      <td>47</td>\n",
              "    </tr>\n",
              "    <tr>\n",
              "      <th>2048</th>\n",
              "      <td>SID255</td>\n",
              "      <td>NaN</td>\n",
              "      <td>Femenino</td>\n",
              "      <td>2020-12-03 07:44:58</td>\n",
              "      <td>575.0</td>\n",
              "      <td>0.0</td>\n",
              "      <td>7</td>\n",
              "      <td>44</td>\n",
              "      <td>58</td>\n",
              "    </tr>\n",
              "    <tr>\n",
              "      <th>2049</th>\n",
              "      <td>SID1</td>\n",
              "      <td>NaN</td>\n",
              "      <td>NaN</td>\n",
              "      <td>2020-12-03 07:45:39</td>\n",
              "      <td>150.0</td>\n",
              "      <td>0.0</td>\n",
              "      <td>7</td>\n",
              "      <td>45</td>\n",
              "      <td>39</td>\n",
              "    </tr>\n",
              "    <tr>\n",
              "      <th>2050</th>\n",
              "      <td>SID1</td>\n",
              "      <td>NaN</td>\n",
              "      <td>NaN</td>\n",
              "      <td>2020-12-03 07:46:11</td>\n",
              "      <td>125.0</td>\n",
              "      <td>0.0</td>\n",
              "      <td>7</td>\n",
              "      <td>46</td>\n",
              "      <td>11</td>\n",
              "    </tr>\n",
              "    <tr>\n",
              "      <th>2169</th>\n",
              "      <td>SID1</td>\n",
              "      <td>NaN</td>\n",
              "      <td>NaN</td>\n",
              "      <td>2020-12-12 07:52:47</td>\n",
              "      <td>125.0</td>\n",
              "      <td>0.0</td>\n",
              "      <td>7</td>\n",
              "      <td>52</td>\n",
              "      <td>47</td>\n",
              "    </tr>\n",
              "    <tr>\n",
              "      <th>2170</th>\n",
              "      <td>SID1</td>\n",
              "      <td>NaN</td>\n",
              "      <td>NaN</td>\n",
              "      <td>2020-12-12 07:54:15</td>\n",
              "      <td>1100.0</td>\n",
              "      <td>0.0</td>\n",
              "      <td>7</td>\n",
              "      <td>54</td>\n",
              "      <td>15</td>\n",
              "    </tr>\n",
              "    <tr>\n",
              "      <th>2171</th>\n",
              "      <td>SID1</td>\n",
              "      <td>NaN</td>\n",
              "      <td>NaN</td>\n",
              "      <td>2020-12-12 07:54:44</td>\n",
              "      <td>375.0</td>\n",
              "      <td>0.0</td>\n",
              "      <td>7</td>\n",
              "      <td>54</td>\n",
              "      <td>44</td>\n",
              "    </tr>\n",
              "    <tr>\n",
              "      <th>2304</th>\n",
              "      <td>SID1</td>\n",
              "      <td>NaN</td>\n",
              "      <td>NaN</td>\n",
              "      <td>2020-12-18 07:47:34</td>\n",
              "      <td>725.0</td>\n",
              "      <td>0.0</td>\n",
              "      <td>7</td>\n",
              "      <td>47</td>\n",
              "      <td>34</td>\n",
              "    </tr>\n",
              "    <tr>\n",
              "      <th>2305</th>\n",
              "      <td>SID1</td>\n",
              "      <td>NaN</td>\n",
              "      <td>NaN</td>\n",
              "      <td>2020-12-18 07:48:33</td>\n",
              "      <td>100.0</td>\n",
              "      <td>0.0</td>\n",
              "      <td>7</td>\n",
              "      <td>48</td>\n",
              "      <td>33</td>\n",
              "    </tr>\n",
              "    <tr>\n",
              "      <th>2306</th>\n",
              "      <td>SID1</td>\n",
              "      <td>NaN</td>\n",
              "      <td>NaN</td>\n",
              "      <td>2020-12-18 07:50:07</td>\n",
              "      <td>125.0</td>\n",
              "      <td>0.0</td>\n",
              "      <td>7</td>\n",
              "      <td>50</td>\n",
              "      <td>7</td>\n",
              "    </tr>\n",
              "    <tr>\n",
              "      <th>2369</th>\n",
              "      <td>SID1</td>\n",
              "      <td>NaN</td>\n",
              "      <td>NaN</td>\n",
              "      <td>2020-12-22 07:57:04</td>\n",
              "      <td>125.0</td>\n",
              "      <td>0.0</td>\n",
              "      <td>7</td>\n",
              "      <td>57</td>\n",
              "      <td>4</td>\n",
              "    </tr>\n",
              "    <tr>\n",
              "      <th>2370</th>\n",
              "      <td>SID1</td>\n",
              "      <td>NaN</td>\n",
              "      <td>NaN</td>\n",
              "      <td>2020-12-22 07:57:24</td>\n",
              "      <td>375.0</td>\n",
              "      <td>0.0</td>\n",
              "      <td>7</td>\n",
              "      <td>57</td>\n",
              "      <td>24</td>\n",
              "    </tr>\n",
              "    <tr>\n",
              "      <th>2371</th>\n",
              "      <td>SID1</td>\n",
              "      <td>NaN</td>\n",
              "      <td>NaN</td>\n",
              "      <td>2020-12-22 07:58:36</td>\n",
              "      <td>750.0</td>\n",
              "      <td>0.0</td>\n",
              "      <td>7</td>\n",
              "      <td>58</td>\n",
              "      <td>36</td>\n",
              "    </tr>\n",
              "    <tr>\n",
              "      <th>2439</th>\n",
              "      <td>SID1</td>\n",
              "      <td>NaN</td>\n",
              "      <td>NaN</td>\n",
              "      <td>2020-12-28 07:55:41</td>\n",
              "      <td>200.0</td>\n",
              "      <td>0.0</td>\n",
              "      <td>7</td>\n",
              "      <td>55</td>\n",
              "      <td>41</td>\n",
              "    </tr>\n",
              "    <tr>\n",
              "      <th>2440</th>\n",
              "      <td>SID265</td>\n",
              "      <td>1993-12-02</td>\n",
              "      <td>Femenino</td>\n",
              "      <td>2020-12-28 07:58:38</td>\n",
              "      <td>5422.5</td>\n",
              "      <td>602.5</td>\n",
              "      <td>7</td>\n",
              "      <td>58</td>\n",
              "      <td>38</td>\n",
              "    </tr>\n",
              "    <tr>\n",
              "      <th>2533</th>\n",
              "      <td>SID1</td>\n",
              "      <td>NaN</td>\n",
              "      <td>NaN</td>\n",
              "      <td>2020-12-31 07:47:59</td>\n",
              "      <td>125.0</td>\n",
              "      <td>0.0</td>\n",
              "      <td>7</td>\n",
              "      <td>47</td>\n",
              "      <td>59</td>\n",
              "    </tr>\n",
              "    <tr>\n",
              "      <th>2552</th>\n",
              "      <td>SID1</td>\n",
              "      <td>NaN</td>\n",
              "      <td>NaN</td>\n",
              "      <td>2021-01-02 07:57:15</td>\n",
              "      <td>650.0</td>\n",
              "      <td>0.0</td>\n",
              "      <td>7</td>\n",
              "      <td>57</td>\n",
              "      <td>15</td>\n",
              "    </tr>\n",
              "    <tr>\n",
              "      <th>2553</th>\n",
              "      <td>SID1</td>\n",
              "      <td>NaN</td>\n",
              "      <td>NaN</td>\n",
              "      <td>2021-01-02 07:57:31</td>\n",
              "      <td>400.0</td>\n",
              "      <td>0.0</td>\n",
              "      <td>7</td>\n",
              "      <td>57</td>\n",
              "      <td>31</td>\n",
              "    </tr>\n",
              "    <tr>\n",
              "      <th>2554</th>\n",
              "      <td>SID1</td>\n",
              "      <td>NaN</td>\n",
              "      <td>NaN</td>\n",
              "      <td>2021-01-02 07:57:51</td>\n",
              "      <td>400.0</td>\n",
              "      <td>0.0</td>\n",
              "      <td>7</td>\n",
              "      <td>57</td>\n",
              "      <td>51</td>\n",
              "    </tr>\n",
              "    <tr>\n",
              "      <th>2555</th>\n",
              "      <td>SID1</td>\n",
              "      <td>NaN</td>\n",
              "      <td>NaN</td>\n",
              "      <td>2021-01-02 07:58:11</td>\n",
              "      <td>100.0</td>\n",
              "      <td>0.0</td>\n",
              "      <td>7</td>\n",
              "      <td>58</td>\n",
              "      <td>11</td>\n",
              "    </tr>\n",
              "    <tr>\n",
              "      <th>2556</th>\n",
              "      <td>SID1</td>\n",
              "      <td>NaN</td>\n",
              "      <td>NaN</td>\n",
              "      <td>2021-01-02 07:58:31</td>\n",
              "      <td>150.0</td>\n",
              "      <td>0.0</td>\n",
              "      <td>7</td>\n",
              "      <td>58</td>\n",
              "      <td>31</td>\n",
              "    </tr>\n",
              "    <tr>\n",
              "      <th>2557</th>\n",
              "      <td>SID1</td>\n",
              "      <td>NaN</td>\n",
              "      <td>NaN</td>\n",
              "      <td>2021-01-02 07:58:47</td>\n",
              "      <td>400.0</td>\n",
              "      <td>0.0</td>\n",
              "      <td>7</td>\n",
              "      <td>58</td>\n",
              "      <td>47</td>\n",
              "    </tr>\n",
              "    <tr>\n",
              "      <th>2558</th>\n",
              "      <td>SID1</td>\n",
              "      <td>NaN</td>\n",
              "      <td>NaN</td>\n",
              "      <td>2021-01-02 07:59:45</td>\n",
              "      <td>750.0</td>\n",
              "      <td>0.0</td>\n",
              "      <td>7</td>\n",
              "      <td>59</td>\n",
              "      <td>45</td>\n",
              "    </tr>\n",
              "    <tr>\n",
              "      <th>2752</th>\n",
              "      <td>SID1</td>\n",
              "      <td>NaN</td>\n",
              "      <td>NaN</td>\n",
              "      <td>2021-01-13 07:41:19</td>\n",
              "      <td>1000.0</td>\n",
              "      <td>0.0</td>\n",
              "      <td>7</td>\n",
              "      <td>41</td>\n",
              "      <td>19</td>\n",
              "    </tr>\n",
              "    <tr>\n",
              "      <th>2753</th>\n",
              "      <td>SID1</td>\n",
              "      <td>NaN</td>\n",
              "      <td>NaN</td>\n",
              "      <td>2021-01-13 07:51:48</td>\n",
              "      <td>2000.0</td>\n",
              "      <td>0.0</td>\n",
              "      <td>7</td>\n",
              "      <td>51</td>\n",
              "      <td>48</td>\n",
              "    </tr>\n",
              "    <tr>\n",
              "      <th>3220</th>\n",
              "      <td>SID1</td>\n",
              "      <td>NaN</td>\n",
              "      <td>NaN</td>\n",
              "      <td>2021-02-04 07:43:43</td>\n",
              "      <td>125.0</td>\n",
              "      <td>0.0</td>\n",
              "      <td>7</td>\n",
              "      <td>43</td>\n",
              "      <td>43</td>\n",
              "    </tr>\n",
              "    <tr>\n",
              "      <th>3264</th>\n",
              "      <td>SID1</td>\n",
              "      <td>NaN</td>\n",
              "      <td>NaN</td>\n",
              "      <td>2021-02-06 07:42:18</td>\n",
              "      <td>650.0</td>\n",
              "      <td>0.0</td>\n",
              "      <td>7</td>\n",
              "      <td>42</td>\n",
              "      <td>18</td>\n",
              "    </tr>\n",
              "  </tbody>\n",
              "</table>\n",
              "</div>"
            ],
            "text/plain": [
              "     cliente fecNacimiento       sexo               fecha  ...  descuento  h   m   s\n",
              "1627    SID1           NaN        NaN 2020-10-27 07:13:12  ...        0.0  7  13  12\n",
              "1628    SID1           NaN        NaN 2020-10-27 07:13:23  ...        0.0  7  13  23\n",
              "1629    SID1           NaN        NaN 2020-10-27 07:13:45  ...        0.0  7  13  45\n",
              "1630    SID2    1972-01-15   Femenino 2020-10-27 07:14:33  ...       25.0  7  14  33\n",
              "1631    SID1           NaN        NaN 2020-10-27 07:14:57  ...        0.0  7  14  57\n",
              "1632    SID1           NaN        NaN 2020-10-27 07:15:18  ...        0.0  7  15  18\n",
              "1633    SID1           NaN        NaN 2020-10-27 07:15:28  ...        0.0  7  15  28\n",
              "1634    SID1           NaN        NaN 2020-10-27 07:53:22  ...        0.0  7  53  22\n",
              "1645    SID1           NaN        NaN 2020-10-28 07:39:02  ...        0.0  7  39   2\n",
              "1646    SID1           NaN        NaN 2020-10-28 07:39:23  ...        0.0  7  39  23\n",
              "1647    SID1           NaN        NaN 2020-10-28 07:40:03  ...        0.0  7  40   3\n",
              "1648    SID1           NaN        NaN 2020-10-28 07:40:28  ...        0.0  7  40  28\n",
              "1770    SID1           NaN        NaN 2020-11-10 07:50:39  ...        0.0  7  50  39\n",
              "1771    SID1           NaN        NaN 2020-11-10 07:53:07  ...        0.0  7  53   7\n",
              "1772  SID113    1990-12-17   Femenino 2020-11-10 07:53:41  ...       25.0  7  53  41\n",
              "1792    SID1           NaN        NaN 2020-11-11 07:38:29  ...        0.0  7  38  29\n",
              "1793    SID1           NaN        NaN 2020-11-11 07:38:53  ...        0.0  7  38  53\n",
              "1794    SID1           NaN        NaN 2020-11-11 07:39:17  ...        0.0  7  39  17\n",
              "1812    SID1           NaN        NaN 2020-11-12 07:04:46  ...        0.0  7   4  46\n",
              "1813  SID247           NaN   Femenino 2020-11-12 07:07:30  ...       25.0  7   7  30\n",
              "1814    SID1           NaN        NaN 2020-11-12 07:08:01  ...        0.0  7   8   1\n",
              "1815  SID197           NaN   Femenino 2020-11-12 07:08:32  ...       25.0  7   8  32\n",
              "1816    SID1           NaN        NaN 2020-11-12 07:09:24  ...        0.0  7   9  24\n",
              "1817    SID1           NaN        NaN 2020-11-12 07:29:01  ...        0.0  7  29   1\n",
              "1818    SID1           NaN        NaN 2020-11-12 07:29:21  ...        0.0  7  29  21\n",
              "1833    SID1           NaN        NaN 2020-11-13 07:21:01  ...        0.0  7  21   1\n",
              "1834    SID1           NaN        NaN 2020-11-13 07:21:17  ...        0.0  7  21  17\n",
              "1842  SID250           NaN   Femenino 2020-11-14 07:17:30  ...        0.0  7  17  30\n",
              "1843    SID1           NaN        NaN 2020-11-14 07:18:00  ...        0.0  7  18   0\n",
              "1844    SID1           NaN        NaN 2020-11-14 07:22:32  ...        0.0  7  22  32\n",
              "1845    SID1           NaN        NaN 2020-11-14 07:23:03  ...        0.0  7  23   3\n",
              "1846   SID23    2001-08-06   Femenino 2020-11-14 07:23:55  ...      225.0  7  23  55\n",
              "1847  SID147           NaN   Femenino 2020-11-14 07:40:52  ...        0.0  7  40  52\n",
              "1876    SID1           NaN        NaN 2020-11-17 07:38:08  ...        0.0  7  38   8\n",
              "1877    SID1           NaN        NaN 2020-11-17 07:39:07  ...        0.0  7  39   7\n",
              "1878    SID1           NaN        NaN 2020-11-17 07:40:17  ...        0.0  7  40  17\n",
              "1879  SID124    1950-03-06  Masculino 2020-11-17 07:41:19  ...      500.0  7  41  19\n",
              "1888    SID1           NaN        NaN 2020-11-18 07:58:14  ...        0.0  7  58  14\n",
              "1912    SID1           NaN        NaN 2020-11-20 07:17:14  ...        0.0  7  17  14\n",
              "1913    SID1           NaN        NaN 2020-11-20 07:17:49  ...        0.0  7  17  49\n",
              "1914    SID1           NaN        NaN 2020-11-20 07:18:35  ...        0.0  7  18  35\n",
              "1915    SID1           NaN        NaN 2020-11-20 07:33:07  ...        0.0  7  33   7\n",
              "1916    SID1           NaN        NaN 2020-11-20 07:56:26  ...        0.0  7  56  26\n",
              "1927    SID1           NaN        NaN 2020-11-21 07:24:09  ...        0.0  7  24   9\n",
              "1928    SID1           NaN        NaN 2020-11-21 07:24:42  ...        0.0  7  24  42\n",
              "1929    SID1           NaN        NaN 2020-11-21 07:25:08  ...        0.0  7  25   8\n",
              "1930  SID143    1970-01-05   Femenino 2020-11-21 07:57:01  ...       75.0  7  57   1\n",
              "1931  SID259           NaN   Femenino 2020-11-21 07:58:57  ...      300.0  7  58  57\n",
              "1938    SID1           NaN        NaN 2020-11-23 07:41:31  ...        0.0  7  41  31\n",
              "1939  SID260           NaN   Femenino 2020-11-23 07:42:41  ...        0.0  7  42  41\n",
              "1940    SID1           NaN        NaN 2020-11-23 07:44:02  ...        0.0  7  44   2\n",
              "1941    SID1           NaN        NaN 2020-11-23 07:44:35  ...        0.0  7  44  35\n",
              "1942    SID1           NaN        NaN 2020-11-23 07:44:53  ...        0.0  7  44  53\n",
              "1943    SID1           NaN        NaN 2020-11-23 07:45:09  ...        0.0  7  45   9\n",
              "1952    SID1           NaN        NaN 2020-11-24 07:26:23  ...        0.0  7  26  23\n",
              "1953    SID1           NaN        NaN 2020-11-24 07:26:40  ...        0.0  7  26  40\n",
              "1954    SID1           NaN        NaN 2020-11-24 07:27:29  ...        0.0  7  27  29\n",
              "1980    SID1           NaN        NaN 2020-11-26 07:45:19  ...        0.0  7  45  19\n",
              "1981    SID1           NaN        NaN 2020-11-26 07:45:40  ...        0.0  7  45  40\n",
              "1982    SID1           NaN        NaN 2020-11-26 07:46:19  ...        0.0  7  46  19\n",
              "1983    SID1           NaN        NaN 2020-11-26 07:46:38  ...        0.0  7  46  38\n",
              "1984    SID1           NaN        NaN 2020-11-26 07:53:54  ...        0.0  7  53  54\n",
              "1990    SID1           NaN        NaN 2020-11-27 07:38:30  ...        0.0  7  38  30\n",
              "1998    SID1           NaN        NaN 2020-11-28 07:37:33  ...        0.0  7  37  33\n",
              "1999    SID1           NaN        NaN 2020-11-28 07:37:51  ...        0.0  7  37  51\n",
              "2000    SID1           NaN        NaN 2020-11-28 07:38:16  ...        0.0  7  38  16\n",
              "2001    SID1           NaN        NaN 2020-11-28 07:44:47  ...        0.0  7  44  47\n",
              "2002    SID1           NaN        NaN 2020-11-28 07:52:39  ...        0.0  7  52  39\n",
              "2030    SID1           NaN        NaN 2020-12-01 07:14:28  ...        0.0  7  14  28\n",
              "2031    SID1           NaN        NaN 2020-12-01 07:15:12  ...        0.0  7  15  12\n",
              "2032  SID178           NaN   Femenino 2020-12-01 07:16:10  ...       25.0  7  16  10\n",
              "2033    SID1           NaN        NaN 2020-12-01 07:16:43  ...        0.0  7  16  43\n",
              "2047    SID1           NaN        NaN 2020-12-03 06:58:47  ...        0.0  6  58  47\n",
              "2048  SID255           NaN   Femenino 2020-12-03 07:44:58  ...        0.0  7  44  58\n",
              "2049    SID1           NaN        NaN 2020-12-03 07:45:39  ...        0.0  7  45  39\n",
              "2050    SID1           NaN        NaN 2020-12-03 07:46:11  ...        0.0  7  46  11\n",
              "2169    SID1           NaN        NaN 2020-12-12 07:52:47  ...        0.0  7  52  47\n",
              "2170    SID1           NaN        NaN 2020-12-12 07:54:15  ...        0.0  7  54  15\n",
              "2171    SID1           NaN        NaN 2020-12-12 07:54:44  ...        0.0  7  54  44\n",
              "2304    SID1           NaN        NaN 2020-12-18 07:47:34  ...        0.0  7  47  34\n",
              "2305    SID1           NaN        NaN 2020-12-18 07:48:33  ...        0.0  7  48  33\n",
              "2306    SID1           NaN        NaN 2020-12-18 07:50:07  ...        0.0  7  50   7\n",
              "2369    SID1           NaN        NaN 2020-12-22 07:57:04  ...        0.0  7  57   4\n",
              "2370    SID1           NaN        NaN 2020-12-22 07:57:24  ...        0.0  7  57  24\n",
              "2371    SID1           NaN        NaN 2020-12-22 07:58:36  ...        0.0  7  58  36\n",
              "2439    SID1           NaN        NaN 2020-12-28 07:55:41  ...        0.0  7  55  41\n",
              "2440  SID265    1993-12-02   Femenino 2020-12-28 07:58:38  ...      602.5  7  58  38\n",
              "2533    SID1           NaN        NaN 2020-12-31 07:47:59  ...        0.0  7  47  59\n",
              "2552    SID1           NaN        NaN 2021-01-02 07:57:15  ...        0.0  7  57  15\n",
              "2553    SID1           NaN        NaN 2021-01-02 07:57:31  ...        0.0  7  57  31\n",
              "2554    SID1           NaN        NaN 2021-01-02 07:57:51  ...        0.0  7  57  51\n",
              "2555    SID1           NaN        NaN 2021-01-02 07:58:11  ...        0.0  7  58  11\n",
              "2556    SID1           NaN        NaN 2021-01-02 07:58:31  ...        0.0  7  58  31\n",
              "2557    SID1           NaN        NaN 2021-01-02 07:58:47  ...        0.0  7  58  47\n",
              "2558    SID1           NaN        NaN 2021-01-02 07:59:45  ...        0.0  7  59  45\n",
              "2752    SID1           NaN        NaN 2021-01-13 07:41:19  ...        0.0  7  41  19\n",
              "2753    SID1           NaN        NaN 2021-01-13 07:51:48  ...        0.0  7  51  48\n",
              "3220    SID1           NaN        NaN 2021-02-04 07:43:43  ...        0.0  7  43  43\n",
              "3264    SID1           NaN        NaN 2021-02-06 07:42:18  ...        0.0  7  42  18\n",
              "\n",
              "[99 rows x 9 columns]"
            ]
          },
          "metadata": {
            "tags": []
          },
          "execution_count": 123
        }
      ]
    },
    {
      "cell_type": "code",
      "metadata": {
        "colab": {
          "base_uri": "https://localhost:8080/"
        },
        "id": "39psp_N4ofmy",
        "outputId": "4d210dcb-29b1-4775-aff1-3a810851c52d"
      },
      "source": [
        "len(df[df['h']<8])"
      ],
      "execution_count": null,
      "outputs": [
        {
          "output_type": "execute_result",
          "data": {
            "text/plain": [
              "99"
            ]
          },
          "metadata": {
            "tags": []
          },
          "execution_count": 124
        }
      ]
    },
    {
      "cell_type": "code",
      "metadata": {
        "id": "-O8zHLrPLOOk"
      },
      "source": [
        "df2 = df.drop(df[df['cliente']=='SID1'].index)\n",
        "tabla01=df2.pivot_table(index='cliente',values='monto',aggfunc=\"sum\") "
      ],
      "execution_count": null,
      "outputs": []
    },
    {
      "cell_type": "code",
      "metadata": {
        "id": "tLRY5XZsLOXr"
      },
      "source": [
        "def funcion (clientes):\n",
        "#clientes= tabla01.nlargest(3,'monto',keep='all')\n",
        "  topmas=tabla01.nlargest(clientes,'monto',keep='all')\n",
        "  print(topmas)"
      ],
      "execution_count": null,
      "outputs": []
    },
    {
      "cell_type": "code",
      "metadata": {
        "id": "bJan_RpgLOaf"
      },
      "source": [
        "import ipywidgets as widgets\n",
        "\n",
        "x= widgets.IntSlider(\n",
        "\n",
        "    min=1,\n",
        "    max=20,\n",
        "    step=1,\n",
        "    description='Test:',\n",
        "    disabled=False,\n",
        "    continuous_update=False,\n",
        "    orientation='horizontal',\n",
        "    readout=True,\n",
        "    readout_format='d'\n",
        ")"
      ],
      "execution_count": null,
      "outputs": []
    },
    {
      "cell_type": "code",
      "metadata": {
        "colab": {
          "base_uri": "https://localhost:8080/",
          "height": 236,
          "referenced_widgets": [
            "3e79552309f84f7d8def43ab38ba6d4b",
            "08ffb1c814ad4112b060f5231af0a9c2",
            "acbe80054f64478d944af1cca36d0deb",
            "546c96669ea34169825ecc8815435f3b",
            "fd8f1089eec24b178900b127bf2eaec8",
            "571954b63bbf4e2b8620e175274fa7ae",
            "4a8ace8ef5514d42b42897dfbdc079a5"
          ]
        },
        "id": "f9ln2nM9LOdL",
        "outputId": "b572d7c8-9cba-4e29-e85f-3fc4b03b50f5"
      },
      "source": [
        "widgets.interact(funcion,clientes=x)"
      ],
      "execution_count": null,
      "outputs": [
        {
          "output_type": "display_data",
          "data": {
            "application/vnd.jupyter.widget-view+json": {
              "model_id": "3e79552309f84f7d8def43ab38ba6d4b",
              "version_minor": 0,
              "version_major": 2
            },
            "text/plain": [
              "interactive(children=(IntSlider(value=1, continuous_update=False, description='Test:', max=20, min=1), Output(…"
            ]
          },
          "metadata": {
            "tags": []
          }
        },
        {
          "output_type": "execute_result",
          "data": {
            "text/plain": [
              "<function __main__.funcion>"
            ]
          },
          "metadata": {
            "tags": []
          },
          "execution_count": 142
        }
      ]
    },
    {
      "cell_type": "code",
      "metadata": {
        "id": "dbviYBgyLOgA"
      },
      "source": [
        ""
      ],
      "execution_count": null,
      "outputs": []
    }
  ]
}