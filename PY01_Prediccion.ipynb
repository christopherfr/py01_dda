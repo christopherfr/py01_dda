{
 "cells": [
  {
   "cell_type": "code",
   "execution_count": 1,
   "metadata": {
    "cellView": "form",
    "id": "LuuLWvfWKaDQ"
   },
   "outputs": [],
   "source": [
    "#@title Ejecutar primero (reiniciará el entorno)\n",
    "from IPython.utils import io\n",
    "with io.capture_output() as captured:\n",
    "    !pip install scikit-learn==0.24.2 --upgrade\n",
    "exit()"
   ]
  },
  {
   "cell_type": "code",
   "execution_count": 11,
   "metadata": {
    "cellView": "form",
    "id": "Iuu7yG0GM7ra"
   },
   "outputs": [
    {
     "data": {
      "application/vnd.jupyter.widget-view+json": {
       "model_id": "925daaeff02f4d5d96851f61fe09f051",
       "version_major": 2,
       "version_minor": 0
      },
      "text/plain": [
       "VBox(children=(HTML(value='<h3>Sugerencia de producto a vender</h3>'), Dropdown(description='Cliente', options…"
      ]
     },
     "metadata": {},
     "output_type": "display_data"
    }
   ],
   "source": [
    "#@title Predicción\n",
    "import pickle\n",
    "import sklearn\n",
    "import ipywidgets as wd\n",
    "import numpy as np\n",
    "from IPython.display import display, clear_output\n",
    "\n",
    "def obtener_clasificadores():\n",
    "    ruta_archivo = open(r'pickles/trabajo_v2.pkl','rb')\n",
    "    clasificadores = pickle.load(ruta_archivo)\n",
    "    return clasificadores\n",
    "\n",
    "def convertir_a_variante(cod_variante, data):\n",
    "    fecha = data[0][0]\n",
    "    if cod_variante == 1:\n",
    "        return [[fecha.isoweekday()]]\n",
    "    elif cod_variante == 2:\n",
    "        return [[1 if fecha.isoweekday() == i else 0 for i in range(1,8)]]\n",
    "    elif cod_variante == 3:\n",
    "        return [[np.sin(2 * np.pi * fecha.isoweekday() / 7), np.cos(2 * np.pi * fecha.isoweekday() / 7)]]\n",
    "    elif cod_variante == 4:\n",
    "        return [[fecha.month]]\n",
    "    elif cod_variante == 5:\n",
    "        return [[1 if fecha.month == i else 0 for i in range(1,13)]]\n",
    "    elif cod_variante == 6:\n",
    "        return [[np.sin(2 * np.pi * fecha.month / 12), np.cos(2 * np.pi * fecha.month / 12)]]\n",
    "    elif cod_variante == 7:\n",
    "        return [[fecha.isoweekday(), fecha.month]]\n",
    "    elif cod_variante == 8:\n",
    "        return [[fecha.isoweekday(), *[1 if fecha.isoweekday() == i else 0 for i in range(1,8)]]]\n",
    "    elif cod_variante == 9:\n",
    "        return [[fecha.isoweekday(), np.sin(2 * np.pi * fecha.month / 12), np.cos(2 * np.pi * fecha.month / 12)]]\n",
    "    elif cod_variante == 10:\n",
    "        return [[*[1 if fecha.isoweekday() == i else 0 for i in range(1,8)], fecha.month]]\n",
    "    elif cod_variante == 11:\n",
    "        return [[*[1 if fecha.isoweekday() == i else 0 for i in range(1,8)], *[1 if fecha.isoweekday() == i else 0 for i in range(1,8)]]]\n",
    "    elif cod_variante == 12:\n",
    "        return [[*[1 if fecha.isoweekday() == i else 0 for i in range(1,8)], np.sin(2 * np.pi * fecha.month / 12), np.cos(2 * np.pi * fecha.month / 12)]]\n",
    "    elif cod_variante == 13:\n",
    "        return [[np.sin(2 * np.pi * fecha.isoweekday() / 7), np.cos(2 * np.pi * fecha.isoweekday() / 7), fecha.month]]\n",
    "    elif cod_variante == 14:\n",
    "        return [[np.sin(2 * np.pi * fecha.isoweekday() / 7), np.cos(2 * np.pi * fecha.isoweekday() / 7), *[1 if fecha.isoweekday() == i else 0 for i in range(1,8)]]]\n",
    "    elif cod_variante == 15:\n",
    "        return [[np.sin(2 * np.pi * fecha.isoweekday() / 7), np.cos(2 * np.pi * fecha.isoweekday() / 7), np.sin(2 * np.pi * fecha.month / 12), np.cos(2 * np.pi * fecha.month / 12)]]\n",
    "    elif cod_variante == 16:\n",
    "        return [[fecha.isoweekday(), *[1 if fecha.isoweekday() == i else 0 for i in range(1,8)], np.sin(2 * np.pi * fecha.isoweekday() / 7), np.cos(2 * np.pi * fecha.isoweekday() / 7), fecha.month, *[1 if fecha.month == i else 0 for i in range(1,13)], np.sin(2 * np.pi * fecha.month / 12), np.cos(2 * np.pi * fecha.month / 12)]]\n",
    "\n",
    "def mostrar_widgets(clasificadores):\n",
    "    html_titulo = wd.HTML('<h3>Sugerencia de producto a vender</h3>')\n",
    "\n",
    "    dpw_clientes = wd.Dropdown(options = clasificadores.keys(), description = 'Cliente')\n",
    "    dpk_fecha_venta = wd.DatePicker(description = 'Fecha')\n",
    "\n",
    "    btn_predecir_producto = wd.Button(description = 'Sugerir producto(s)', button_style = 'success', icon = 'check')\n",
    "    def on_btn_predecir_producto_clicked(b):\n",
    "        cliente = dpw_clientes.value\n",
    "        clasificadores_cliente = clasificadores[cliente]\n",
    "        n_clases = clasificadores_cliente['n_clases']\n",
    "        clases = clasificadores_cliente['solucion']\n",
    "        lista_predicciones = list()\n",
    "        if n_clases == 2:\n",
    "            clases_prod = clases['clases_prod']\n",
    "            cod_variante = clases['cod_variante']\n",
    "            clasificador = clases['clasificador']\n",
    "            data = [[dpk_fecha_venta.value]]\n",
    "            X = convertir_a_variante(cod_variante, data)\n",
    "            prediccion = clasificador.predict(X)[0]\n",
    "            producto = clases_prod[prediccion]\n",
    "            lista_predicciones.append(producto)\n",
    "        else:\n",
    "            for producto, solucion in clases.items():\n",
    "                #cod_variante, clasificador = clasificadores[dpw_clientes.value]\n",
    "                cod_variante = solucion['cod_variante']\n",
    "                clasificador = solucion['clasificador']\n",
    "\n",
    "                data = [[dpk_fecha_venta.value]]\n",
    "                X = convertir_a_variante(cod_variante, data)\n",
    "                print(X)\n",
    "                prediccion = clasificador.predict(X)[0]\n",
    "                print(clasificador.predict(X))\n",
    "                if prediccion == 1:\n",
    "                    lista_predicciones.append(producto)\n",
    "\n",
    "        with out_prediccion:\n",
    "            clear_output()\n",
    "            if lista_predicciones:\n",
    "                sugerencia = ', '.join(lista_predicciones)\n",
    "            else:\n",
    "                sugerencia = 'No encontramos sugerencias.'\n",
    "            print('Productos sugeridos: {}'.format(sugerencia))\n",
    "\n",
    "    btn_predecir_producto.on_click(on_btn_predecir_producto_clicked)\n",
    "\n",
    "    out_prediccion = wd.Output(layout = wd.Layout(margin = '5px 0 5px 0'))\n",
    "\n",
    "    display(wd.VBox([html_titulo, dpw_clientes, dpk_fecha_venta, btn_predecir_producto, out_prediccion]))\n",
    "\n",
    "def main():\n",
    "    clasificadores = obtener_clasificadores()\n",
    "    mostrar_widgets(clasificadores)\n",
    "\n",
    "main()"
   ]
  }
 ],
 "metadata": {
  "colab": {
   "collapsed_sections": [],
   "name": "PY01_Prediccion.ipynb",
   "provenance": []
  },
  "instance_type": "ml.t3.medium",
  "kernelspec": {
   "display_name": "Python 3 (Data Science)",
   "language": "python",
   "name": "python3__SAGEMAKER_INTERNAL__arn:aws:sagemaker:us-east-1:081325390199:image/datascience-1.0"
  },
  "language_info": {
   "codemirror_mode": {
    "name": "ipython",
    "version": 3
   },
   "file_extension": ".py",
   "mimetype": "text/x-python",
   "name": "python",
   "nbconvert_exporter": "python",
   "pygments_lexer": "ipython3",
   "version": "3.7.10"
  }
 },
 "nbformat": 4,
 "nbformat_minor": 4
}
